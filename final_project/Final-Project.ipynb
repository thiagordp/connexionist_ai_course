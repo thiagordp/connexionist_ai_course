{
 "cells": [
  {
   "cell_type": "markdown",
   "metadata": {},
   "source": [
    "#  Classification of cases from Special Civel Court\n",
    "\n",
    "Final project for Connexionist AI course\n",
    "\n",
    "\n",
    "## Goals\n",
    "\n",
    "- Acquire the data\n",
    "- Set models\n",
    "- Train and classify\n",
    "- Record video\n",
    "\n",
    "## models\n",
    "- Temporal Convolutional Network (TCN)\n",
    "- Ensemble CNN-GRU\n",
    "- SNN. A shallow neural network.\n",
    "- 1D CNN.\n",
    "- BiGRU/BiLSTM\n",
    "\n",
    "## Representation\n",
    "- BERTimbal (Legal)\n",
    "- Glove embeddings (Legal)\n",
    "- Legal BertBR"
   ]
  },
  {
   "cell_type": "code",
   "execution_count": null,
   "metadata": {},
   "outputs": [],
   "source": []
  }
 ],
 "metadata": {
  "language_info": {
   "name": "python"
  },
  "orig_nbformat": 4
 },
 "nbformat": 4,
 "nbformat_minor": 2
}
