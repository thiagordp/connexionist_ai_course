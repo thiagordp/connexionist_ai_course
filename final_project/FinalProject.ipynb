{
 "cells": [
  {
   "cell_type": "markdown",
   "metadata": {
    "pycharm": {
     "name": "#%% md\n"
    }
   },
   "source": [
    "# Final Project\n",
    "\n",
    "## Basic Information\n",
    "\n",
    "\n",
    "| **Title:**       | Deep Learning and Natural Language Processing applied to the legal texts |\n",
    "|------------------|----------------------------------------------------------|\n",
    "| **Abstract:**    |                                                        |\n",
    "| **Author:**      | Thiago Raulino Dal Pont                                |\n",
    "| **Affiliation:** | Graduate Program in Automation and Systems Engineering  |\n",
    "| **Date**         | July 14, 2022                                          |\n",
    "\n",
    "\n",
    "## Goals of the project\n",
    "\n",
    "- ...\n",
    "\n",
    "## Project structure\n",
    "- Preprocessing\n",
    "- Representation\n",
    "- Modeling\n",
    "- Evaluation\n",
    "\n",
    "\n",
    "## Requirements\n",
    "\n",
    "\n",
    "``pip install -r requirements.txt``\n",
    "\n",
    "``python3 -m spacy download pt_core_news_sm``\n"
   ]
  },
  {
   "cell_type": "markdown",
   "metadata": {
    "collapsed": false,
    "pycharm": {
     "name": "#%% md\n"
    }
   },
   "source": [
    "## Importing dependencies"
   ]
  },
  {
   "cell_type": "code",
   "execution_count": 1,
   "metadata": {
    "collapsed": false,
    "pycharm": {
     "name": "#%%\n"
    }
   },
   "outputs": [],
   "source": [
    "import os\n",
    "\n",
    "from sklearn.feature_extraction.text import TfidfVectorizer\n",
    "from sklearn.model_selection import train_test_split\n",
    "\n",
    "from src.modeling.util import get_class_weight\n",
    "from src.preprocessing.preprocessing_shallow_ml import PreProcessingShallowML"
   ]
  },
  {
   "cell_type": "markdown",
   "metadata": {
    "collapsed": false,
    "pycharm": {
     "name": "#%% md\n"
    }
   },
   "source": [
    "## Dataset basic information"
   ]
  },
  {
   "cell_type": "code",
   "execution_count": 2,
   "metadata": {
    "collapsed": false,
    "pycharm": {
     "name": "#%%\n"
    }
   },
   "outputs": [
    {
     "name": "stdout",
     "output_type": "stream",
     "text": [
      "Loading dataset\n",
      "{'labels': {'ganha': None, 'perde': None}}\n",
      "  -> Found 1044 files inside Data/final_dataset_2l_wo_result/ganha/*.txt\n",
      "  -> Found 116 files inside Data/final_dataset_2l_wo_result/perde/*.txt\n"
     ]
    }
   ],
   "source": [
    "DATASET_2CLASS_PATH = os.path.join(\"Data\", \"final_dataset_2l_wo_result\", \"\")\n",
    "\n",
    "preprocessor = PreProcessingShallowML()\n",
    "preprocessor.load_dataset(DATASET_2CLASS_PATH)\n"
   ]
  },
  {
   "cell_type": "markdown",
   "source": [
    "# Data preparation\n",
    "\n",
    "- In this project, we implemented a class to handle the text preprocessing in such a way that we can easily select distinct methods."
   ],
   "metadata": {
    "collapsed": false,
    "pycharm": {
     "name": "#%% md\n"
    }
   }
  },
  {
   "cell_type": "code",
   "execution_count": 3,
   "outputs": [
    {
     "name": "stdout",
     "output_type": "stream",
     "text": [
      "Preprocessing corpus\n",
      "  -> Converting to lowercase\n",
      "  -> Removing HTML\n",
      "  -> Tokenizing\n",
      "  -> Removing punctuation\n",
      "  -> Removing Stopwords\n",
      "  -> Joining tokens into string\n",
      "  -> A sample of the preprocessed data:\n",
      "[\"autos n° 0301090-84.2019.8.24.0090 ação procedimento juizado especial cível/proc autor antonio schincariol vicente réu oceanair linhas aéreas s/a avianca vistos etc i. relatório relatório dispensado forma artigo 38 caput lei 9.099/95 ii fundamentação trato ação indenizatória ajuizada antonio schincariol vicente face oceanair linhas aéreas s/a avianca julgo antecipadamente feito porquanto solução lide pode obtida análise direito disciplina matéria bem provas carreadas autos serem suficientes formação convencimento valho-me pois art 355 i código processo civil além disso impende ressaltar presente demanda consubstancia relação consumo vez partes envolvidas avença enquadram conceitos fornecedor consumidor dispostos arts 3º 2º lei 8.078/1990 respectivamente sendo portanto imperioso aplicados preceitos insculpidos código defesa consumidor narra parte autora comprou passagens ida volta viajar esposa casal amigos colômbia relata ida 03/10/2018 tudo ocorreu dentro normalidade entretanto volta 11/10/2018 comprar novas passagens casal amigos retornarem brasil pois passagens destes adquiridas autor localizadas ré sistema acrescenta comprou passagens valor equivalente r 6.287,02 seis mil duzentos oitenta sete reais dois centavos forma parcelada dez prestações meio cartão crédito contudo pagamento cobrado integralidade fatura vencimento 20/11/2018 acompanhado r 675,22 seiscentos setenta cinco reais vinte dois centavos referente imposto sobre operações financeiras iof assim requer condenação parte ré pagamento indenização danos materiais correspondentes devolução dobro quantia paga passagens aéreas totaliza r 13.353,92 treze mil trezentos cinquenta três reais noventa dois centavos acrescido r 20.000.00 vinte mil reais título danos morais vez parte ré trans american airlines s/a taca peru compareceu voluntariamente audiência apresentou contestação sustentando pequena falha sistema gestão check-in forma imprevisível caracterizando excludente responsabilidade civil caso fortuito/força maior parte ré oceanair linhas aéreas s/a avianca suscita preliminares ilegitimidade passiva vez voo operacionalizado companhia aérea taca peru sendo possível responsabilização fatos alegados aplicabilidade convenção montreal suspensão feito decorrência recuperação judicial avianca início cumpre-se incluir polo passivo parte trans american airlines s.a taca peru operou linha contratada autor compareceu voluntariamente juízo tempo afasto alegação ilegitimidade passiva oceanair vez faz parte mesma cadeia consumo empresa indicada taca peru voo questão pertence ainda base teoria aparência tendo vista empresas realizam venda divulgação passagens aéreas sob nome imagem `` avianca '' assim ambas companhias capazes responder solidariamente eventuais danos causados assim prosseguimento feito relação rés oceanair linhas aéreas s/a trans american airlines s.a. – taca peru solidariamente polo passivo.friso ademais aplicação convenções varsóvia montreal caso exame pois previsão referida norma acerca tema discutido nestes autos friso ademais aplicação convenções varsóvia montreal caso exame pois previsão referida norma acerca tema discutido nestes autos concerne prefacial suspensão feito decorrência recuperação judicial oceanair linhas aéreas s/a avianca deve rechaçada vez crédito sequer formado apenas atos constritivos ficam sob responsabilidade única juízo recuperação nesse sentido agravo instrumento ação adimplemento contratual telefonia demanda fase cumprimento sentença insurgência ré pedido suspensão processo formulado fundamento deferimento processamento recuperação judicial empresa telefonia ausência definição crédito necessidade apuração definitivo exato valor devido incidência exceção prevista art 6º § 1º lei n. 11.101/2005 possibilidade regular prosseguimento feito vedada contudo prática novos atos constrição patrimonial precedentes desta corte justiça ... tjsc agravo instrumento n. 4005220-72.2017.8.24.0000 rio campo rel des soraya nunes lins quinta câmara direito comercial j 06-12-2018 pois bem passo mérito termos art 14 caput código defesa consumidor responsabilidade fornecedor danos causados consumidores defeitos decorrentes prestação serviços objetiva independe comprovação culpa caso apreço companhia aérea ré logrou demonstrar ocorrência quaisquer excludentes responsabilidade previstas art 14 §3º código consumidor saber tendo prestado serviço defeito inexiste culpa exclusiva consumidor terceiro efeito apesar ré admitir erro interno sistema fl 70 nada acostou fim corroborar versão verifico ainda documentos fls 26/37 confirmam aquisição passagens sido trazida autos alguma espécie cientificação prévia passageiros acerca problema reserva assim resta incontroverso passagens aéreas localizadas dia embarque tão somente razão falha sistema ré cabe ressaltar ademais art 12 resolução n° 400/2016 anac prevê prazo 72 setenta duas horas prévia cientificação passageiros casos alterações realizadas forma programada transportador tampouco cumprido empresa aérea portanto sendo certo parte ré logrou êxito comprovar quaisquer excludentes responsabilidade previstas art 14 §3º código defesa consumidor evidente falha prestação serviço impõe dever reparar danos causados parte requerente comprova autor precisou adquirir momento embarque novas passagens aéreas amigos poderem retornar brasil fls 46/49 sendo devido portanto reembolso destas entretanto restituição deve simples vez situação comento enquadra hipótese parágrafo único art 42 código defesa consumidor restando comprovada cobrança quantia indevida tampouco má-fé parte requerida quanto ocorrência dano moral entendo fatos ultrapassam entende mero dissabor devendo consumidor pois indenizado danos extrapatrimoniais sofridos além ré ter cancelado unilateralmente passagens momento embarque – certamente gera insegurança frustração passageiro prestes embarcar país estrangeiro vê impedido – verifico autor comprou passagens aéreas forma parcela dez prestações fl 46 todavia primeira fatura cartão crédito recebida valor cobrado integralidade fl 53 anoto ainda autor tentou resolver questão meio chat ré entretanto informou autor precisaria retornar colômbia presencialmente argumento adquiriu bilhetes pessoalmente aeroporto fls 61/62 nesse sentido recurso inominado ação indenização danos materiais morais serviço transporte aéreo bilhetes aéreos cancelados devido erro sistema companhia aérea demonstrado autos `` confirmação compra passagem '' demandada devido falha sistema reserva cancelada razão encerramento voo necessidade adquirir novos bilhetes.danos materiais comprovados restituição milhas valores despendidos novas passagens análise autos verifica-se autor possuía bilhetes pagos milhas despendidas razão reembolso destes devido ante perda voo justificativa plausível.danos morais devidos `` cancelamento voo comprovação justificativa plausível determinada condições climáticas adversas impedimento determinado terceiro sujeita companhia aérea indenização danos sofridos passageiros além inúmeros percalços sujeitaram mau atendimento prestado tendo viajado hora prevista perderam compromissos ordem pessoal patrimonial profissional '' tjsc apelação cível n. 2015.069349-2 taió rel des jaime ramos j 29-10-2015 .quantum indenizatório falar redução quantum arbitrado `` quantum indenização dano moral fixado moderação respeito princípios razoabilidade proporcionalidade levando conta condições sociais econômicas partes grau culpa extensão sofrimento psíquico modo possa significar reprimenda ofensor abstenha praticar fatos idênticos futuro ocasione enriquecimento injustificado lesado '' tjsc apelação cível n. 2013.061873-5. relator jaime ramos julgado 12/12/2013 sentença mantida próprios fundamentos recurso conhecido desprovido.decisão tjsc recurso inominado n. 0319550-05.2014.8.24.0023 capital eduardo luz rel des fernando vieira luiz primeira turma recursos capital j 25-11-2015 acerca quantum devido sopesando circunstâncias caso condições pessoais partes bem caráter pedagógico medida arbitro valor r 4.000,00 quatro mil reais título indenização danos morais após fixar valor indenização cabe dizer correção monetária flui arbitramento enunciado 362 súmula stj juros mora citação falta cumprimento deveres contrato firmado partes stj edcl resp 400843 rs relator ministro carlos alberto menezes direito j. 09.08.2007 ressalvo contudo sabido empresa ré oceanair linhas aéreas s/a avianca encontra-se processo recuperação judicial cujo deferimento ocorreu 13/12/2018 conforme decisão proferida juízo 1ª vara falências recuperações judiciais comarca paulo estado paulo ademais prevê plano recuperação homologado `` homologação judicial plano todas execuções judiciais curso envolvendo créditos detidos contra recuperandas extintas exclusivamente relação recuperandas '' recurso especial ação compensação danos morais devedor recuperação judicial negativa prestação jurisdicional verificada constituição crédito evento danoso ocorrido momento anterior pedido recuperacional submissão efeitos sentença condenatória proferida posteriormente irrelevância 1. ação ajuizada 20/5/2013 recurso especial interposto 27/9/2017 concluso gabinete 8/3/2018 2. propósito recursal definir crédito titularidade recorridas decorrente sentença condenatória transitada julgado após pedido recuperação judicial devedor deve sujeitar-se plano soerguimento 3. devidamente analisadas discutidas questões controvertidas suficientemente fundamentado acórdão recorrido reconhecer ocorrência negativa prestação jurisdicional 4. fins art 49 caput lei 11.101/05 constituição crédito discutido ação responsabilidade civil condiciona provimento judicial declare existência determine quantificação precedente 5. hipótese tratando-se crédito derivado fato ocorrido momento anterior àquele requerida recuperação judicial deve reconhecida sujeição plano soerguimento sociedade devedora 6. recurso especial provido resp 1727771/rs rel ministra nancy andrighi terceira turma julgado 15/05/2018 dje 18/05/2018 desse modo considerando fato deu origem condenação ré aquisição passagens anterior deferimento pedido recuperação portanto crédito concursal ressalto desde inclusive evitar ajuizamento infrutífero incidente cumprimento sentença hipótese parte autora promover cobrança face oceanair linhas aéreas s/a avianca deverá habilitar crédito juízo recuperação demais concursais pagamento ocorrerá forma determinada plano recuperação nada podendo feito neste juízo florianópolis sc 27 novembro 2019. vânia petermann juíza direito\"]\n"
     ]
    }
   ],
   "source": [
    "preprocessor.preprocess_corpus(\n",
    "    keep_raw=True,\n",
    "    lowercase=True,\n",
    "    stemming=False,\n",
    "    remove_html=True,\n",
    "    remove_punct=True,\n",
    "    remove_stopwords=True\n",
    ")\n",
    "\n",
    "dataset_shallow_ml = preprocessor.df_corpora"
   ],
   "metadata": {
    "collapsed": false,
    "pycharm": {
     "name": "#%%\n"
    }
   }
  },
  {
   "cell_type": "code",
   "execution_count": 3,
   "outputs": [
    {
     "name": "stdout",
     "output_type": "stream",
     "text": [
      "Preprocessing corpus\n",
      "  -> Converting to lowercase\n",
      "  -> Removing HTML\n",
      "  -> Tokenizing\n",
      "  -> Removing punctuation\n",
      "  -> Joining tokens into string\n",
      "  -> A sample of the preprocessed data:\n",
      "['autos n. 0702116-33.2011.8.24.0090 ação procedimento do juizado especial cível requerente s talles josé de oliveira requerido a s tam linhas aereas s/a vistos para sentença talles josé de oliveira ajuizou ação de cunho condenatório em face de tam – linhas aéreas s/a na qual busca a reparação dos danos materiais e morais decorrentes de perda de um voo e realocação em outro com mais de 07 sete horas de diferença eis o sucinto relatório apesar de dispensado na forma do artigo 38 caput da lei 9.099/95 decido resolvo antecipadamente a lide nos termos do artigo 330 i do cpc uma vez que o juiz tem o poder-dever de julgar a lide antecipadamente desprezando a realização de audiência para a produção de provas ao constatar que o acervo documental é suficiente para nortear e instruir seu entendimento é do seu livre convencimento o deferimento de pedido para a produção de quaisquer provas que entender pertinentes ao julgamento da lide stj agrg no ag 956845/sp primeira turma rel min josé delgado julg 24/04/2008 ademais assim requerido pelos litigantes à fl 45. primeiramente acentuo que na ausência de procuração com poderes específicos para tal não pode o autor formular pedido em nome de terceira pessoa – no caso sua esposa – sendo imprescindível que essa igualmente constasse no polo ativo da demanda para que se pudesse admitir o pleito de reparação por danos morais em seu favor desse modo ficam os pedidos de danos materiais e morais limitados ao autor o que não afasta a possibilidade de sua esposa em ação autônoma buscar o que entende por direito observado o prazo prescricional pertinente feita essa consideração destaco que aplicáveis aqui as regras contidas no estatuto consumerista principalmente no que tange aos princípios protetivos – como o da vulnerabilidade artigo 4° i o da hipossuficiência artigo 6° viii o do equilíbrio e da boa-fé objetiva artigo 4° iii o do dever de informar artigo 6° iii o da equivalência artigo 4° iii c/c o artigo 6° ii o da transparência artigo 4° caput e o da solidariedade parágrafo único do artigo 7° nunes rizzatto comentários ao código de defesa do consumidor 9 ed são paulo saraiva 2006. p. 83 – já que autor e ré se enquadram nas figuras previstas nos artigos 2° e 3° daquele diploma legal quanto ao conteúdo do artigo 6º viii do cdc indiscutível que o autor é tanto técnico quanto economicamente hipossuficiente em relação à ré além de verossímeis os argumentos lançados na inicial sendo medida de justiça garantir-lhe isonomia processual afinal embora todo o transporte aéreo nacional seja regido pelo código brasileiro da aeronáutica lei nº 7.565/86 o microssistema do código protetivo de consumo por ser norma posterior se sobrepõe naquilo que disciplinar de forma diferente tjsc apelação cível n. 2009.065533-8 de são josé rel des gilberto gomes de oliveira julg 07/07/2011 logo objetiva a responsabilidade da companhia aérea por eventuais defeitos ocorridos na prestação de seus serviços tjsc apelação cível n. 2008.076709-4. rel des fernando carioni julg 02/03/2009 e provados o fato e as circunstâncias pessoais do viajante para o reconhecimento do dano extrapatrimonial não se exige a prova do desconforto da dor ou da aflição que são admitidos através de um juízo da experiência stj resp nº 234472/sp rel min barros monteiro julg 05/12/2000 incontroverso que o autor viajava de londres para florianópolis com escala em são paulo quando perdeu sua conexão por conta da demora nas filas de imigração e retirada de sua bagagem sendo-lhe disponibilizado outro voo com uma diferença de mais de 07 sete horas de espera ainda que as companhias aéreas não tenham controle sobre o trabalho da receita federal no setor de imigração e alfandegário a organização das conexões – que fica a seu encargo uma vez que o passageiro apenas escolhe a origem e o destino desejado – deve levar em consideração o tempo médio gasto pelos passageiros nesses setores evitando assim perdas de voos como ocorreu no caso ademais uma vez que não houve qualquer impugnação ao narrado na inicial fazendo incidir o conteúdo do artigo 302 do cpc certo que houve ainda uma demora de mais de 30 trinta minutos na retirada das bagagens tornando impossível a conexão previamente agendada sendo essa pois questão imputada exclusivamente à ré tendo em conta que a perda da conexão – ainda que não exclusivamente mas em grande parte – deu-se por culpa da ré que tanto não calculou o tempo necessário para desembaraço dos passageiros até a conexão previamente estabelecida como aumentou o atraso em razão de demora na entrega das bagagens e que a conexão ofertada ultrapassava 07 sete horas de espera hão de ser aplicadas as regras referentes ao atraso/cancelamento de voo previstas na resolução n. 141/2010 da anac art 8° em caso de cancelamento de voo ou interrupção do serviço o transportador deverá oferecer as seguintes alternativas ao passageiro i – a reacomodação a em voo próprio ou de terceiro que ofereça serviço equivalente para o mesmo destino na primeira oportunidade b em vôo próprio a ser realizado em data e horário de conveniência do passageiro ... grifei apesar da negativa da ré em acomodar o autor e sua esposa em voo alternativo em outra companhia aérea sob a escusa de que não havia assentos disponíveis certo que ele conseguiu adquirir as passagens aéreas com a empresa gol em horário bem anterior àquele fornecido pela ré – 11h10 enquanto com a ré seria apenas às 15h fls 08 e 09 – deixando claro que a recusa era pois injustificada doutrina e jurisprudência concordam que o atraso e o cancelamento de voo quando não há comprovação de justificativa plausível determinada por condições climáticas adversas ou por impedimento determinado por terceiro sujeita a companhia aérea à indenização dos danos sofridos por passageiros que não tendo viajado na data prevista perderam seus compromissos sejam eles de ordem pessoal patrimonial ou profissional mesmo na hipótese de eventual intempérie responde a empresa aérea que se abstém de prestar informações corretas e precisas a seus passageiros e não lhes fornece acomodação em hotel alimentação e cuidados médicos quando necessários a fim de minimizar os prejuízos e o sofrimento dos usuários tjsc apelação cível n. 2012.023928-2 da capital rel des jaime ramos julg 11/05/2012 quanto aos danos materiais esses estão devidamente comprovados por meio do bilhete de passagem e nota fiscal de fl 08 dando conta da passagem aérea adquirida da companhia aérea gol e da alimentação desembolsada pelo autor no período de espera da conexão a qual igualmente não foi oferecida pela ré tal valor – r 981,60 novecentos e oitenta e um reais sessenta centavos – há de ser atualizado monetariamente desde seu desembolso 18 de junho de 2011 e sofrer a incidência de juros de 1 um por cento ao mês a contar da citação quanto aos danos morais além de o voo alternativo oferecido pela ré ter tempo de espera muito superior às 04 quatro horas admitida pela jurisprudência há de se considerar que o autor e sua esposa se encontravam em trânsito internacional com longas horas de viagem sendo qualquer espera extraordinária causa suficiente a gerar a devida reparação moral some-se a isso a necessidade de desembolsar vultosa quantia para garantir a chegada ao destino final com menos tempo de espera muito embora fosse medida de responsabilidade da ré conforme regulamentação da anac acima transcrita além disso quando decorrentes de atraso de voo – situação similar a dos autos – prescindem de prova pois a responsabilidade de seu causador opera-se in re ipsa por força do simples fato da sua violação em virtude do desconforto da aflição e dos transtornos suportados pelo passageiro stj resp 299.532/sp rel des convocado honildo amaral de mello castro julg 27/10/09 inexistentes parâmetros objetivos para a fixação do dano moral e estando esta no arbítrio motivado do magistrado na forma do artigo 946 do código civil algumas particularidades hão de ser levadas em consideração em relação a cada litigante ou seja incumbe ao magistrado a fixação de verba que corresponda tanto quanto possível à situação sócio-econômica do ofensor sem perder de vista a necessidade de avaliação da repercussão do evento danoso na vida da vítima esse o entendimento do superior tribunal de justiça stj recurso especial n. 246258/sp relator min sálvio de figueiredo teixeira julg 18/04/2000 tais questões exigem que o montante reparatório esteja embasado em critérios de razoabilidade tendentes a reconhecer e condenar o réu a pagar valor que não importe enriquecimento sem causa ao lesado mas uma efetiva reparação de caráter moral e uma séria reprimenda ao ofensor tornando desvantajosa a reincidência tenho então como razoável a quantia de r 5.000,00 cinco mil reais montante a ser atualizado monetariamente a contar desta decisão e sofrer a incidência de juros legais a partir do evento danoso 18 de junho de 2011 florianópolis sc 09 de outubro de 2012. margani de mello juíza de direito']\n"
     ]
    }
   ],
   "source": [
    "preprocessor.preprocess_corpus(\n",
    "    keep_raw=True,\n",
    "    lowercase=True,\n",
    "    stemming=False,\n",
    "    remove_html=True,\n",
    "    remove_punct=True,\n",
    "    remove_stopwords=False\n",
    ")\n",
    "\n",
    "dataset_dl = preprocessor.df_corpora"
   ],
   "metadata": {
    "collapsed": false,
    "pycharm": {
     "name": "#%%\n"
    }
   }
  },
  {
   "cell_type": "markdown",
   "source": [
    "- Dataset splitting"
   ],
   "metadata": {
    "collapsed": false,
    "pycharm": {
     "name": "#%% md\n"
    }
   }
  },
  {
   "cell_type": "code",
   "execution_count": 4,
   "outputs": [
    {
     "name": "stdout",
     "output_type": "stream",
     "text": [
      "Dataset shapes:\n",
      " -> Train: X=(928,)\ty=(928,)\n",
      " -> Test:  X=(232,)\ty=(232,)\n"
     ]
    }
   ],
   "source": [
    "X = dataset_dl[\"processed_content\"]\n",
    "y = dataset_dl[\"label\"]\n",
    "\n",
    "X_train, X_test, y_train, y_test = train_test_split(X, y, test_size=0.2, random_state=123, stratify=y, shuffle=True)\n",
    "print(\"Dataset shapes:\")\n",
    "print(\" -> Train: X=%s\\ty=%s\" % (str(X_train.shape), str(y_train.shape)))\n",
    "print(\" -> Test:  X=%s\\ty=%s\" % (str(X_test.shape), str(y_test.shape)))"
   ],
   "metadata": {
    "collapsed": false,
    "pycharm": {
     "name": "#%%\n"
    }
   }
  },
  {
   "cell_type": "code",
   "execution_count": 5,
   "outputs": [
    {
     "data": {
      "text/plain": "{0: 0.555688622754491, 1: 4.989247311827957}"
     },
     "execution_count": 5,
     "metadata": {},
     "output_type": "execute_result"
    }
   ],
   "source": [
    "\n",
    "# Class weights\n",
    "class_weights = get_class_weight(y_train)\n",
    "class_weights"
   ],
   "metadata": {
    "collapsed": false,
    "pycharm": {
     "name": "#%%\n"
    }
   }
  },
  {
   "cell_type": "markdown",
   "source": [
    "## Modelling with Deep Learning\n",
    "\n",
    "In this section, we apply the dataset"
   ],
   "metadata": {
    "collapsed": false,
    "pycharm": {
     "name": "#%% md\n"
    }
   }
  },
  {
   "cell_type": "code",
   "execution_count": 7,
   "outputs": [],
   "source": [
    "import pandas as pd\n",
    "import numpy as np\n",
    "from keras.models import Sequential\n",
    "from keras.layers import Dense\n",
    "from keras.layers import Flatten\n",
    "from keras.layers import Conv1D\n",
    "from keras.layers import MaxPooling1D\n",
    "from keras.layers import Embedding\n",
    "from tensorflow.keras.preprocessing.text import Tokenizer\n",
    "from keras.preprocessing import sequence\n",
    "from sklearn.preprocessing import LabelEncoder\n",
    "\n",
    "# fix random seed for reproducibility\n",
    "seed = 42\n",
    "np.random.seed(seed)"
   ],
   "metadata": {
    "collapsed": false,
    "pycharm": {
     "name": "#%%\n"
    }
   }
  },
  {
   "cell_type": "code",
   "execution_count": 8,
   "outputs": [],
   "source": [
    "t = Tokenizer(oov_token='<UNK>')\n",
    "# fit the tokenizer on the documents\n",
    "t.fit_on_texts(X_train)\n",
    "t.word_index['<PAD>'] = 0"
   ],
   "metadata": {
    "collapsed": false,
    "pycharm": {
     "name": "#%%\n"
    }
   }
  },
  {
   "cell_type": "code",
   "execution_count": 9,
   "outputs": [],
   "source": [
    "train_sequences = t.texts_to_sequences(X_train)\n",
    "test_sequences = t.texts_to_sequences(X_test)"
   ],
   "metadata": {
    "collapsed": false,
    "pycharm": {
     "name": "#%%\n"
    }
   }
  },
  {
   "cell_type": "code",
   "execution_count": 10,
   "outputs": [
    {
     "name": "stdout",
     "output_type": "stream",
     "text": [
      "Vocabulary size=17424\n",
      "Number of Documents=928\n"
     ]
    }
   ],
   "source": [
    "print(\"Vocabulary size={}\".format(len(t.word_index)))\n",
    "print(\"Number of Documents={}\".format(t.document_count))"
   ],
   "metadata": {
    "collapsed": false,
    "pycharm": {
     "name": "#%%\n"
    }
   }
  },
  {
   "cell_type": "code",
   "execution_count": 11,
   "outputs": [],
   "source": [
    "MAX_SEQUENCE_LENGTH = 1000"
   ],
   "metadata": {
    "collapsed": false,
    "pycharm": {
     "name": "#%%\n"
    }
   }
  },
  {
   "cell_type": "code",
   "execution_count": 12,
   "outputs": [
    {
     "data": {
      "text/plain": "((928, 1000), (232, 1000))"
     },
     "execution_count": 12,
     "metadata": {},
     "output_type": "execute_result"
    }
   ],
   "source": [
    "# pad dataset to a maximum review length in words\n",
    "X_train = sequence.pad_sequences(train_sequences, maxlen=MAX_SEQUENCE_LENGTH)\n",
    "X_test = sequence.pad_sequences(test_sequences, maxlen=MAX_SEQUENCE_LENGTH)\n",
    "X_train.shape, X_test.shape"
   ],
   "metadata": {
    "collapsed": false,
    "pycharm": {
     "name": "#%%\n"
    }
   }
  },
  {
   "cell_type": "code",
   "execution_count": 13,
   "outputs": [],
   "source": [
    "le = LabelEncoder()\n",
    "num_classes=2 # positive -> 1, negative -> 0"
   ],
   "metadata": {
    "collapsed": false,
    "pycharm": {
     "name": "#%%\n"
    }
   }
  },
  {
   "cell_type": "code",
   "execution_count": 14,
   "outputs": [],
   "source": [
    "y_train = le.fit_transform(y_train)\n",
    "y_test = le.transform(y_test)"
   ],
   "metadata": {
    "collapsed": false,
    "pycharm": {
     "name": "#%%\n"
    }
   }
  },
  {
   "cell_type": "code",
   "execution_count": 15,
   "outputs": [],
   "source": [
    "VOCAB_SIZE = len(t.word_index)"
   ],
   "metadata": {
    "collapsed": false,
    "pycharm": {
     "name": "#%%\n"
    }
   }
  },
  {
   "cell_type": "code",
   "execution_count": 16,
   "outputs": [],
   "source": [
    "EMBED_SIZE = 300\n",
    "EPOCHS=2\n",
    "BATCH_SIZE=32"
   ],
   "metadata": {
    "collapsed": false,
    "pycharm": {
     "name": "#%%\n"
    }
   }
  },
  {
   "cell_type": "code",
   "execution_count": null,
   "outputs": [
    {
     "name": "stderr",
     "output_type": "stream",
     "text": [
      "2022-07-15 22:05:18.168140: I tensorflow/stream_executor/platform/default/dso_loader.cc:44] Successfully opened dynamic library libcuda.so.1\n",
      "2022-07-15 22:05:18.206901: I tensorflow/stream_executor/cuda/cuda_gpu_executor.cc:981] successful NUMA node read from SysFS had negative value (-1), but there must be at least one NUMA node, so returning NUMA node zero\n",
      "2022-07-15 22:05:18.207355: I tensorflow/core/common_runtime/gpu/gpu_device.cc:1561] Found device 0 with properties: \n",
      "pciBusID: 0000:01:00.0 name: NVIDIA GeForce 940MX computeCapability: 5.0\n",
      "coreClock: 1.189GHz coreCount: 3 deviceMemorySize: 1.96GiB deviceMemoryBandwidth: 37.33GiB/s\n",
      "2022-07-15 22:05:18.207678: I tensorflow/stream_executor/platform/default/dso_loader.cc:44] Successfully opened dynamic library libcudart.so.10.1\n",
      "2022-07-15 22:05:18.209962: I tensorflow/stream_executor/platform/default/dso_loader.cc:44] Successfully opened dynamic library libcublas.so.10\n",
      "2022-07-15 22:05:18.211899: I tensorflow/stream_executor/platform/default/dso_loader.cc:44] Successfully opened dynamic library libcufft.so.10\n",
      "2022-07-15 22:05:18.212379: I tensorflow/stream_executor/platform/default/dso_loader.cc:44] Successfully opened dynamic library libcurand.so.10\n",
      "2022-07-15 22:05:18.214871: I tensorflow/stream_executor/platform/default/dso_loader.cc:44] Successfully opened dynamic library libcusolver.so.10\n",
      "2022-07-15 22:05:18.216015: I tensorflow/stream_executor/platform/default/dso_loader.cc:44] Successfully opened dynamic library libcusparse.so.10\n",
      "2022-07-15 22:05:18.220999: I tensorflow/stream_executor/platform/default/dso_loader.cc:44] Successfully opened dynamic library libcudnn.so.7\n",
      "2022-07-15 22:05:18.221219: I tensorflow/stream_executor/cuda/cuda_gpu_executor.cc:981] successful NUMA node read from SysFS had negative value (-1), but there must be at least one NUMA node, so returning NUMA node zero\n",
      "2022-07-15 22:05:18.221790: I tensorflow/stream_executor/cuda/cuda_gpu_executor.cc:981] successful NUMA node read from SysFS had negative value (-1), but there must be at least one NUMA node, so returning NUMA node zero\n",
      "2022-07-15 22:05:18.222146: I tensorflow/core/common_runtime/gpu/gpu_device.cc:1703] Adding visible gpu devices: 0\n",
      "2022-07-15 22:05:18.223346: I tensorflow/core/platform/cpu_feature_guard.cc:143] Your CPU supports instructions that this TensorFlow binary was not compiled to use: SSE4.1 SSE4.2 AVX AVX2 FMA\n",
      "2022-07-15 22:05:18.233809: I tensorflow/core/platform/profile_utils/cpu_utils.cc:102] CPU Frequency: 2899885000 Hz\n",
      "2022-07-15 22:05:18.234037: I tensorflow/compiler/xla/service/service.cc:168] XLA service 0x55ee21433cc0 initialized for platform Host (this does not guarantee that XLA will be used). Devices:\n",
      "2022-07-15 22:05:18.234054: I tensorflow/compiler/xla/service/service.cc:176]   StreamExecutor device (0): Host, Default Version\n",
      "2022-07-15 22:05:18.302502: I tensorflow/stream_executor/cuda/cuda_gpu_executor.cc:981] successful NUMA node read from SysFS had negative value (-1), but there must be at least one NUMA node, so returning NUMA node zero\n",
      "2022-07-15 22:05:18.302840: I tensorflow/compiler/xla/service/service.cc:168] XLA service 0x55ee1c637410 initialized for platform CUDA (this does not guarantee that XLA will be used). Devices:\n",
      "2022-07-15 22:05:18.302857: I tensorflow/compiler/xla/service/service.cc:176]   StreamExecutor device (0): NVIDIA GeForce 940MX, Compute Capability 5.0\n",
      "2022-07-15 22:05:18.303120: I tensorflow/stream_executor/cuda/cuda_gpu_executor.cc:981] successful NUMA node read from SysFS had negative value (-1), but there must be at least one NUMA node, so returning NUMA node zero\n",
      "2022-07-15 22:05:18.303327: I tensorflow/core/common_runtime/gpu/gpu_device.cc:1561] Found device 0 with properties: \n",
      "pciBusID: 0000:01:00.0 name: NVIDIA GeForce 940MX computeCapability: 5.0\n",
      "coreClock: 1.189GHz coreCount: 3 deviceMemorySize: 1.96GiB deviceMemoryBandwidth: 37.33GiB/s\n",
      "2022-07-15 22:05:18.303395: I tensorflow/stream_executor/platform/default/dso_loader.cc:44] Successfully opened dynamic library libcudart.so.10.1\n",
      "2022-07-15 22:05:18.303426: I tensorflow/stream_executor/platform/default/dso_loader.cc:44] Successfully opened dynamic library libcublas.so.10\n",
      "2022-07-15 22:05:18.303454: I tensorflow/stream_executor/platform/default/dso_loader.cc:44] Successfully opened dynamic library libcufft.so.10\n",
      "2022-07-15 22:05:18.303481: I tensorflow/stream_executor/platform/default/dso_loader.cc:44] Successfully opened dynamic library libcurand.so.10\n",
      "2022-07-15 22:05:18.303509: I tensorflow/stream_executor/platform/default/dso_loader.cc:44] Successfully opened dynamic library libcusolver.so.10\n",
      "2022-07-15 22:05:18.303536: I tensorflow/stream_executor/platform/default/dso_loader.cc:44] Successfully opened dynamic library libcusparse.so.10\n",
      "2022-07-15 22:05:18.303564: I tensorflow/stream_executor/platform/default/dso_loader.cc:44] Successfully opened dynamic library libcudnn.so.7\n",
      "2022-07-15 22:05:18.303657: I tensorflow/stream_executor/cuda/cuda_gpu_executor.cc:981] successful NUMA node read from SysFS had negative value (-1), but there must be at least one NUMA node, so returning NUMA node zero\n",
      "2022-07-15 22:05:18.303918: I tensorflow/stream_executor/cuda/cuda_gpu_executor.cc:981] successful NUMA node read from SysFS had negative value (-1), but there must be at least one NUMA node, so returning NUMA node zero\n",
      "2022-07-15 22:05:18.304099: I tensorflow/core/common_runtime/gpu/gpu_device.cc:1703] Adding visible gpu devices: 0\n",
      "2022-07-15 22:05:18.304164: I tensorflow/stream_executor/platform/default/dso_loader.cc:44] Successfully opened dynamic library libcudart.so.10.1\n",
      "2022-07-15 22:05:18.304527: I tensorflow/core/common_runtime/gpu/gpu_device.cc:1102] Device interconnect StreamExecutor with strength 1 edge matrix:\n",
      "2022-07-15 22:05:18.304553: I tensorflow/core/common_runtime/gpu/gpu_device.cc:1108]      0 \n",
      "2022-07-15 22:05:18.304571: I tensorflow/core/common_runtime/gpu/gpu_device.cc:1121] 0:   N \n",
      "2022-07-15 22:05:18.304742: I tensorflow/stream_executor/cuda/cuda_gpu_executor.cc:981] successful NUMA node read from SysFS had negative value (-1), but there must be at least one NUMA node, so returning NUMA node zero\n",
      "2022-07-15 22:05:18.305024: I tensorflow/stream_executor/cuda/cuda_gpu_executor.cc:981] successful NUMA node read from SysFS had negative value (-1), but there must be at least one NUMA node, so returning NUMA node zero\n",
      "2022-07-15 22:05:18.305237: I tensorflow/core/common_runtime/gpu/gpu_device.cc:1247] Created TensorFlow device (/job:localhost/replica:0/task:0/device:GPU:0 with 1753 MB memory) -> physical GPU (device: 0, name: NVIDIA GeForce 940MX, pci bus id: 0000:01:00.0, compute capability: 5.0)\n"
     ]
    }
   ],
   "source": [
    "# create the model\n",
    "model = Sequential()\n",
    "model.add(Embedding(VOCAB_SIZE, EMBED_SIZE, input_length=MAX_SEQUENCE_LENGTH))\n",
    "model.add(Conv1D(filters=128, kernel_size=4, padding='same', activation='relu'))\n",
    "model.add(MaxPooling1D(pool_size=2))\n",
    "model.add(Conv1D(filters=64, kernel_size=4, padding='same', activation='relu'))\n",
    "model.add(MaxPooling1D(pool_size=2))\n",
    "model.add(Conv1D(filters=32, kernel_size=4, padding='same', activation='relu'))\n",
    "model.add(MaxPooling1D(pool_size=2))\n",
    "model.add(Flatten())\n",
    "model.add(Dense(256, activation='relu'))\n",
    "model.add(Dense(1, activation='sigmoid'))\n",
    "model.compile(loss='binary_crossentropy', optimizer='adam', metrics=['accuracy'])\n",
    "model.summary()"
   ],
   "metadata": {
    "collapsed": false,
    "pycharm": {
     "name": "#%%\n",
     "is_executing": true
    }
   }
  },
  {
   "cell_type": "code",
   "execution_count": 40,
   "outputs": [
    {
     "name": "stdout",
     "output_type": "stream",
     "text": [
      "Epoch 1/2\n"
     ]
    },
    {
     "name": "stderr",
     "output_type": "stream",
     "text": [
      "2022-07-15 22:02:58.859432: E tensorflow/stream_executor/cuda/cuda_dnn.cc:329] Could not create cudnn handle: CUDNN_STATUS_INTERNAL_ERROR\n",
      "2022-07-15 22:02:58.866042: E tensorflow/stream_executor/cuda/cuda_dnn.cc:329] Could not create cudnn handle: CUDNN_STATUS_INTERNAL_ERROR\n"
     ]
    },
    {
     "ename": "UnknownError",
     "evalue": "2 root error(s) found.\n  (0) Unknown:  Failed to get convolution algorithm. This is probably because cuDNN failed to initialize, so try looking to see if a warning log message was printed above.\n\t [[node sequential_1/conv1d_3/conv1d (defined at tmp/ipykernel_53494/310409201.py:7) ]]\n\t [[gradient_tape/sequential_1/embedding_1/embedding_lookup/Reshape/_40]]\n  (1) Unknown:  Failed to get convolution algorithm. This is probably because cuDNN failed to initialize, so try looking to see if a warning log message was printed above.\n\t [[node sequential_1/conv1d_3/conv1d (defined at tmp/ipykernel_53494/310409201.py:7) ]]\n0 successful operations.\n0 derived errors ignored. [Op:__inference_train_function_2633]\n\nFunction call stack:\ntrain_function -> train_function\n",
     "output_type": "error",
     "traceback": [
      "\u001B[0;31m---------------------------------------------------------------------------\u001B[0m",
      "\u001B[0;31mUnknownError\u001B[0m                              Traceback (most recent call last)",
      "\u001B[0;32m/tmp/ipykernel_53494/310409201.py\u001B[0m in \u001B[0;36m<module>\u001B[0;34m\u001B[0m\n\u001B[1;32m      5\u001B[0m           \u001B[0mbatch_size\u001B[0m\u001B[0;34m=\u001B[0m\u001B[0mBATCH_SIZE\u001B[0m\u001B[0;34m,\u001B[0m\u001B[0;34m\u001B[0m\u001B[0;34m\u001B[0m\u001B[0m\n\u001B[1;32m      6\u001B[0m           \u001B[0mclass_weight\u001B[0m\u001B[0;34m=\u001B[0m\u001B[0mclass_weights\u001B[0m\u001B[0;34m,\u001B[0m\u001B[0;34m\u001B[0m\u001B[0;34m\u001B[0m\u001B[0m\n\u001B[0;32m----> 7\u001B[0;31m           verbose=1)\n\u001B[0m",
      "\u001B[0;32m~/anaconda3/envs/ml_env/lib/python3.7/site-packages/tensorflow/python/keras/engine/training.py\u001B[0m in \u001B[0;36m_method_wrapper\u001B[0;34m(self, *args, **kwargs)\u001B[0m\n\u001B[1;32m     64\u001B[0m   \u001B[0;32mdef\u001B[0m \u001B[0m_method_wrapper\u001B[0m\u001B[0;34m(\u001B[0m\u001B[0mself\u001B[0m\u001B[0;34m,\u001B[0m \u001B[0;34m*\u001B[0m\u001B[0margs\u001B[0m\u001B[0;34m,\u001B[0m \u001B[0;34m**\u001B[0m\u001B[0mkwargs\u001B[0m\u001B[0;34m)\u001B[0m\u001B[0;34m:\u001B[0m\u001B[0;34m\u001B[0m\u001B[0;34m\u001B[0m\u001B[0m\n\u001B[1;32m     65\u001B[0m     \u001B[0;32mif\u001B[0m \u001B[0;32mnot\u001B[0m \u001B[0mself\u001B[0m\u001B[0;34m.\u001B[0m\u001B[0m_in_multi_worker_mode\u001B[0m\u001B[0;34m(\u001B[0m\u001B[0;34m)\u001B[0m\u001B[0;34m:\u001B[0m  \u001B[0;31m# pylint: disable=protected-access\u001B[0m\u001B[0;34m\u001B[0m\u001B[0;34m\u001B[0m\u001B[0m\n\u001B[0;32m---> 66\u001B[0;31m       \u001B[0;32mreturn\u001B[0m \u001B[0mmethod\u001B[0m\u001B[0;34m(\u001B[0m\u001B[0mself\u001B[0m\u001B[0;34m,\u001B[0m \u001B[0;34m*\u001B[0m\u001B[0margs\u001B[0m\u001B[0;34m,\u001B[0m \u001B[0;34m**\u001B[0m\u001B[0mkwargs\u001B[0m\u001B[0;34m)\u001B[0m\u001B[0;34m\u001B[0m\u001B[0;34m\u001B[0m\u001B[0m\n\u001B[0m\u001B[1;32m     67\u001B[0m \u001B[0;34m\u001B[0m\u001B[0m\n\u001B[1;32m     68\u001B[0m     \u001B[0;31m# Running inside `run_distribute_coordinator` already.\u001B[0m\u001B[0;34m\u001B[0m\u001B[0;34m\u001B[0m\u001B[0;34m\u001B[0m\u001B[0m\n",
      "\u001B[0;32m~/anaconda3/envs/ml_env/lib/python3.7/site-packages/tensorflow/python/keras/engine/training.py\u001B[0m in \u001B[0;36mfit\u001B[0;34m(self, x, y, batch_size, epochs, verbose, callbacks, validation_split, validation_data, shuffle, class_weight, sample_weight, initial_epoch, steps_per_epoch, validation_steps, validation_batch_size, validation_freq, max_queue_size, workers, use_multiprocessing)\u001B[0m\n\u001B[1;32m    846\u001B[0m                 batch_size=batch_size):\n\u001B[1;32m    847\u001B[0m               \u001B[0mcallbacks\u001B[0m\u001B[0;34m.\u001B[0m\u001B[0mon_train_batch_begin\u001B[0m\u001B[0;34m(\u001B[0m\u001B[0mstep\u001B[0m\u001B[0;34m)\u001B[0m\u001B[0;34m\u001B[0m\u001B[0;34m\u001B[0m\u001B[0m\n\u001B[0;32m--> 848\u001B[0;31m               \u001B[0mtmp_logs\u001B[0m \u001B[0;34m=\u001B[0m \u001B[0mtrain_function\u001B[0m\u001B[0;34m(\u001B[0m\u001B[0miterator\u001B[0m\u001B[0;34m)\u001B[0m\u001B[0;34m\u001B[0m\u001B[0;34m\u001B[0m\u001B[0m\n\u001B[0m\u001B[1;32m    849\u001B[0m               \u001B[0;31m# Catch OutOfRangeError for Datasets of unknown size.\u001B[0m\u001B[0;34m\u001B[0m\u001B[0;34m\u001B[0m\u001B[0;34m\u001B[0m\u001B[0m\n\u001B[1;32m    850\u001B[0m               \u001B[0;31m# This blocks until the batch has finished executing.\u001B[0m\u001B[0;34m\u001B[0m\u001B[0;34m\u001B[0m\u001B[0;34m\u001B[0m\u001B[0m\n",
      "\u001B[0;32m~/anaconda3/envs/ml_env/lib/python3.7/site-packages/tensorflow/python/eager/def_function.py\u001B[0m in \u001B[0;36m__call__\u001B[0;34m(self, *args, **kwds)\u001B[0m\n\u001B[1;32m    578\u001B[0m         \u001B[0mxla_context\u001B[0m\u001B[0;34m.\u001B[0m\u001B[0mExit\u001B[0m\u001B[0;34m(\u001B[0m\u001B[0;34m)\u001B[0m\u001B[0;34m\u001B[0m\u001B[0;34m\u001B[0m\u001B[0m\n\u001B[1;32m    579\u001B[0m     \u001B[0;32melse\u001B[0m\u001B[0;34m:\u001B[0m\u001B[0;34m\u001B[0m\u001B[0;34m\u001B[0m\u001B[0m\n\u001B[0;32m--> 580\u001B[0;31m       \u001B[0mresult\u001B[0m \u001B[0;34m=\u001B[0m \u001B[0mself\u001B[0m\u001B[0;34m.\u001B[0m\u001B[0m_call\u001B[0m\u001B[0;34m(\u001B[0m\u001B[0;34m*\u001B[0m\u001B[0margs\u001B[0m\u001B[0;34m,\u001B[0m \u001B[0;34m**\u001B[0m\u001B[0mkwds\u001B[0m\u001B[0;34m)\u001B[0m\u001B[0;34m\u001B[0m\u001B[0;34m\u001B[0m\u001B[0m\n\u001B[0m\u001B[1;32m    581\u001B[0m \u001B[0;34m\u001B[0m\u001B[0m\n\u001B[1;32m    582\u001B[0m     \u001B[0;32mif\u001B[0m \u001B[0mtracing_count\u001B[0m \u001B[0;34m==\u001B[0m \u001B[0mself\u001B[0m\u001B[0;34m.\u001B[0m\u001B[0m_get_tracing_count\u001B[0m\u001B[0;34m(\u001B[0m\u001B[0;34m)\u001B[0m\u001B[0;34m:\u001B[0m\u001B[0;34m\u001B[0m\u001B[0;34m\u001B[0m\u001B[0m\n",
      "\u001B[0;32m~/anaconda3/envs/ml_env/lib/python3.7/site-packages/tensorflow/python/eager/def_function.py\u001B[0m in \u001B[0;36m_call\u001B[0;34m(self, *args, **kwds)\u001B[0m\n\u001B[1;32m    642\u001B[0m         \u001B[0;31m# Lifting succeeded, so variables are initialized and we can run the\u001B[0m\u001B[0;34m\u001B[0m\u001B[0;34m\u001B[0m\u001B[0;34m\u001B[0m\u001B[0m\n\u001B[1;32m    643\u001B[0m         \u001B[0;31m# stateless function.\u001B[0m\u001B[0;34m\u001B[0m\u001B[0;34m\u001B[0m\u001B[0;34m\u001B[0m\u001B[0m\n\u001B[0;32m--> 644\u001B[0;31m         \u001B[0;32mreturn\u001B[0m \u001B[0mself\u001B[0m\u001B[0;34m.\u001B[0m\u001B[0m_stateless_fn\u001B[0m\u001B[0;34m(\u001B[0m\u001B[0;34m*\u001B[0m\u001B[0margs\u001B[0m\u001B[0;34m,\u001B[0m \u001B[0;34m**\u001B[0m\u001B[0mkwds\u001B[0m\u001B[0;34m)\u001B[0m\u001B[0;34m\u001B[0m\u001B[0;34m\u001B[0m\u001B[0m\n\u001B[0m\u001B[1;32m    645\u001B[0m     \u001B[0;32melse\u001B[0m\u001B[0;34m:\u001B[0m\u001B[0;34m\u001B[0m\u001B[0;34m\u001B[0m\u001B[0m\n\u001B[1;32m    646\u001B[0m       \u001B[0mcanon_args\u001B[0m\u001B[0;34m,\u001B[0m \u001B[0mcanon_kwds\u001B[0m \u001B[0;34m=\u001B[0m\u001B[0;31m \u001B[0m\u001B[0;31m\\\u001B[0m\u001B[0;34m\u001B[0m\u001B[0;34m\u001B[0m\u001B[0m\n",
      "\u001B[0;32m~/anaconda3/envs/ml_env/lib/python3.7/site-packages/tensorflow/python/eager/function.py\u001B[0m in \u001B[0;36m__call__\u001B[0;34m(self, *args, **kwargs)\u001B[0m\n\u001B[1;32m   2418\u001B[0m     \u001B[0;32mwith\u001B[0m \u001B[0mself\u001B[0m\u001B[0;34m.\u001B[0m\u001B[0m_lock\u001B[0m\u001B[0;34m:\u001B[0m\u001B[0;34m\u001B[0m\u001B[0;34m\u001B[0m\u001B[0m\n\u001B[1;32m   2419\u001B[0m       \u001B[0mgraph_function\u001B[0m\u001B[0;34m,\u001B[0m \u001B[0margs\u001B[0m\u001B[0;34m,\u001B[0m \u001B[0mkwargs\u001B[0m \u001B[0;34m=\u001B[0m \u001B[0mself\u001B[0m\u001B[0;34m.\u001B[0m\u001B[0m_maybe_define_function\u001B[0m\u001B[0;34m(\u001B[0m\u001B[0margs\u001B[0m\u001B[0;34m,\u001B[0m \u001B[0mkwargs\u001B[0m\u001B[0;34m)\u001B[0m\u001B[0;34m\u001B[0m\u001B[0;34m\u001B[0m\u001B[0m\n\u001B[0;32m-> 2420\u001B[0;31m     \u001B[0;32mreturn\u001B[0m \u001B[0mgraph_function\u001B[0m\u001B[0;34m.\u001B[0m\u001B[0m_filtered_call\u001B[0m\u001B[0;34m(\u001B[0m\u001B[0margs\u001B[0m\u001B[0;34m,\u001B[0m \u001B[0mkwargs\u001B[0m\u001B[0;34m)\u001B[0m  \u001B[0;31m# pylint: disable=protected-access\u001B[0m\u001B[0;34m\u001B[0m\u001B[0;34m\u001B[0m\u001B[0m\n\u001B[0m\u001B[1;32m   2421\u001B[0m \u001B[0;34m\u001B[0m\u001B[0m\n\u001B[1;32m   2422\u001B[0m   \u001B[0;34m@\u001B[0m\u001B[0mproperty\u001B[0m\u001B[0;34m\u001B[0m\u001B[0;34m\u001B[0m\u001B[0m\n",
      "\u001B[0;32m~/anaconda3/envs/ml_env/lib/python3.7/site-packages/tensorflow/python/eager/function.py\u001B[0m in \u001B[0;36m_filtered_call\u001B[0;34m(self, args, kwargs)\u001B[0m\n\u001B[1;32m   1663\u001B[0m          if isinstance(t, (ops.Tensor,\n\u001B[1;32m   1664\u001B[0m                            resource_variable_ops.BaseResourceVariable))),\n\u001B[0;32m-> 1665\u001B[0;31m         self.captured_inputs)\n\u001B[0m\u001B[1;32m   1666\u001B[0m \u001B[0;34m\u001B[0m\u001B[0m\n\u001B[1;32m   1667\u001B[0m   \u001B[0;32mdef\u001B[0m \u001B[0m_call_flat\u001B[0m\u001B[0;34m(\u001B[0m\u001B[0mself\u001B[0m\u001B[0;34m,\u001B[0m \u001B[0margs\u001B[0m\u001B[0;34m,\u001B[0m \u001B[0mcaptured_inputs\u001B[0m\u001B[0;34m,\u001B[0m \u001B[0mcancellation_manager\u001B[0m\u001B[0;34m=\u001B[0m\u001B[0;32mNone\u001B[0m\u001B[0;34m)\u001B[0m\u001B[0;34m:\u001B[0m\u001B[0;34m\u001B[0m\u001B[0;34m\u001B[0m\u001B[0m\n",
      "\u001B[0;32m~/anaconda3/envs/ml_env/lib/python3.7/site-packages/tensorflow/python/eager/function.py\u001B[0m in \u001B[0;36m_call_flat\u001B[0;34m(self, args, captured_inputs, cancellation_manager)\u001B[0m\n\u001B[1;32m   1744\u001B[0m       \u001B[0;31m# No tape is watching; skip to running the function.\u001B[0m\u001B[0;34m\u001B[0m\u001B[0;34m\u001B[0m\u001B[0;34m\u001B[0m\u001B[0m\n\u001B[1;32m   1745\u001B[0m       return self._build_call_outputs(self._inference_function.call(\n\u001B[0;32m-> 1746\u001B[0;31m           ctx, args, cancellation_manager=cancellation_manager))\n\u001B[0m\u001B[1;32m   1747\u001B[0m     forward_backward = self._select_forward_and_backward_functions(\n\u001B[1;32m   1748\u001B[0m         \u001B[0margs\u001B[0m\u001B[0;34m,\u001B[0m\u001B[0;34m\u001B[0m\u001B[0;34m\u001B[0m\u001B[0m\n",
      "\u001B[0;32m~/anaconda3/envs/ml_env/lib/python3.7/site-packages/tensorflow/python/eager/function.py\u001B[0m in \u001B[0;36mcall\u001B[0;34m(self, ctx, args, cancellation_manager)\u001B[0m\n\u001B[1;32m    596\u001B[0m               \u001B[0minputs\u001B[0m\u001B[0;34m=\u001B[0m\u001B[0margs\u001B[0m\u001B[0;34m,\u001B[0m\u001B[0;34m\u001B[0m\u001B[0;34m\u001B[0m\u001B[0m\n\u001B[1;32m    597\u001B[0m               \u001B[0mattrs\u001B[0m\u001B[0;34m=\u001B[0m\u001B[0mattrs\u001B[0m\u001B[0;34m,\u001B[0m\u001B[0;34m\u001B[0m\u001B[0;34m\u001B[0m\u001B[0m\n\u001B[0;32m--> 598\u001B[0;31m               ctx=ctx)\n\u001B[0m\u001B[1;32m    599\u001B[0m         \u001B[0;32melse\u001B[0m\u001B[0;34m:\u001B[0m\u001B[0;34m\u001B[0m\u001B[0;34m\u001B[0m\u001B[0m\n\u001B[1;32m    600\u001B[0m           outputs = execute.execute_with_cancellation(\n",
      "\u001B[0;32m~/anaconda3/envs/ml_env/lib/python3.7/site-packages/tensorflow/python/eager/execute.py\u001B[0m in \u001B[0;36mquick_execute\u001B[0;34m(op_name, num_outputs, inputs, attrs, ctx, name)\u001B[0m\n\u001B[1;32m     58\u001B[0m     \u001B[0mctx\u001B[0m\u001B[0;34m.\u001B[0m\u001B[0mensure_initialized\u001B[0m\u001B[0;34m(\u001B[0m\u001B[0;34m)\u001B[0m\u001B[0;34m\u001B[0m\u001B[0;34m\u001B[0m\u001B[0m\n\u001B[1;32m     59\u001B[0m     tensors = pywrap_tfe.TFE_Py_Execute(ctx._handle, device_name, op_name,\n\u001B[0;32m---> 60\u001B[0;31m                                         inputs, attrs, num_outputs)\n\u001B[0m\u001B[1;32m     61\u001B[0m   \u001B[0;32mexcept\u001B[0m \u001B[0mcore\u001B[0m\u001B[0;34m.\u001B[0m\u001B[0m_NotOkStatusException\u001B[0m \u001B[0;32mas\u001B[0m \u001B[0me\u001B[0m\u001B[0;34m:\u001B[0m\u001B[0;34m\u001B[0m\u001B[0;34m\u001B[0m\u001B[0m\n\u001B[1;32m     62\u001B[0m     \u001B[0;32mif\u001B[0m \u001B[0mname\u001B[0m \u001B[0;32mis\u001B[0m \u001B[0;32mnot\u001B[0m \u001B[0;32mNone\u001B[0m\u001B[0;34m:\u001B[0m\u001B[0;34m\u001B[0m\u001B[0;34m\u001B[0m\u001B[0m\n",
      "\u001B[0;31mUnknownError\u001B[0m: 2 root error(s) found.\n  (0) Unknown:  Failed to get convolution algorithm. This is probably because cuDNN failed to initialize, so try looking to see if a warning log message was printed above.\n\t [[node sequential_1/conv1d_3/conv1d (defined at tmp/ipykernel_53494/310409201.py:7) ]]\n\t [[gradient_tape/sequential_1/embedding_1/embedding_lookup/Reshape/_40]]\n  (1) Unknown:  Failed to get convolution algorithm. This is probably because cuDNN failed to initialize, so try looking to see if a warning log message was printed above.\n\t [[node sequential_1/conv1d_3/conv1d (defined at tmp/ipykernel_53494/310409201.py:7) ]]\n0 successful operations.\n0 derived errors ignored. [Op:__inference_train_function_2633]\n\nFunction call stack:\ntrain_function -> train_function\n"
     ]
    }
   ],
   "source": [
    "# Fit the model\n",
    "model.fit(X_train, y_train,\n",
    "          validation_split=0.1,\n",
    "          epochs=EPOCHS,\n",
    "          batch_size=BATCH_SIZE,\n",
    "          class_weight=class_weights,\n",
    "          verbose=1)"
   ],
   "metadata": {
    "collapsed": false,
    "pycharm": {
     "name": "#%%\n"
    }
   }
  },
  {
   "cell_type": "code",
   "execution_count": null,
   "outputs": [],
   "source": [
    "# Final evaluation of the model\n",
    "scores = model.evaluate(X_test, y_test, verbose=1)\n",
    "print(\"Accuracy: %.2f%%\" % (scores[1]*100))"
   ],
   "metadata": {
    "collapsed": false,
    "pycharm": {
     "name": "#%%\n"
    }
   }
  },
  {
   "cell_type": "code",
   "execution_count": null,
   "outputs": [],
   "source": [
    "predictions = model.predict_classes(X_test).ravel()\n",
    "predictions[:10]"
   ],
   "metadata": {
    "collapsed": false,
    "pycharm": {
     "name": "#%%\n"
    }
   }
  },
  {
   "cell_type": "code",
   "execution_count": null,
   "outputs": [],
   "source": [
    "predictions = ['positive' if item == 1 else 'negative' for item in predictions]\n",
    "predictions[:10]"
   ],
   "metadata": {
    "collapsed": false,
    "pycharm": {
     "name": "#%%\n"
    }
   }
  },
  {
   "cell_type": "code",
   "execution_count": null,
   "outputs": [],
   "source": [
    "from sklearn.metrics import confusion_matrix, classification_report\n",
    "\n",
    "labels = ['negative', 'positive']\n",
    "print(classification_report(y_test, predictions))\n",
    "pd.DataFrame(confusion_matrix(y_test, predictions), index=labels, columns=labels)"
   ],
   "metadata": {
    "collapsed": false,
    "pycharm": {
     "name": "#%%\n"
    }
   }
  },
  {
   "cell_type": "markdown",
   "source": [
    "## Modeling with Shallow ML"
   ],
   "metadata": {
    "collapsed": false,
    "pycharm": {
     "name": "#%% md\n"
    }
   }
  },
  {
   "cell_type": "code",
   "execution_count": 5,
   "outputs": [
    {
     "name": "stdout",
     "output_type": "stream",
     "text": [
      "Dataset shapes:\n",
      " -> Train: X=(1044,)\ty=(1044,)\n",
      " -> Test:  X=(116,)\ty=(116,)\n"
     ]
    }
   ],
   "source": [
    "from sklearn import preprocessing\n",
    "\n",
    "X = dataset_shallow_ml[\"processed_content\"]\n",
    "y = dataset_shallow_ml[\"label\"]\n",
    "\n",
    "X_train, X_test, y_train, y_test = train_test_split(X, y, test_size=0.1, random_state=123, stratify=y, shuffle=True)\n",
    "print(\"Dataset shapes:\")\n",
    "print(\" -> Train: X=%s\\ty=%s\" % (str(X_train.shape), str(y_train.shape)))\n",
    "print(\" -> Test:  X=%s\\ty=%s\" % (str(X_test.shape), str(y_test.shape)))\n",
    "\n",
    "le = preprocessing.LabelEncoder()\n",
    "le.fit(y_train)\n",
    "y_train = le.transform(y_train)\n",
    "y_test = le.transform(y_test)"
   ],
   "metadata": {
    "collapsed": false,
    "pycharm": {
     "name": "#%%\n"
    }
   }
  },
  {
   "cell_type": "markdown",
   "source": [],
   "metadata": {
    "collapsed": false,
    "pycharm": {
     "name": "#%% md\n"
    }
   }
  },
  {
   "cell_type": "code",
   "execution_count": 6,
   "outputs": [],
   "source": [
    "vectorizer = TfidfVectorizer(max_df=0.9, min_df=0.05, max_features=5000)\n",
    "\n",
    "X_train_bow = vectorizer.fit_transform(X_train)\n",
    "X_test_bow = vectorizer.transform(X_test)"
   ],
   "metadata": {
    "collapsed": false,
    "pycharm": {
     "name": "#%%\n"
    }
   }
  },
  {
   "cell_type": "code",
   "execution_count": 7,
   "outputs": [
    {
     "name": "stderr",
     "output_type": "stream",
     "text": [
      "100%|██████████| 10/10 [02:36<00:00, 15.69s/it]"
     ]
    },
    {
     "name": "stdout",
     "output_type": "stream",
     "text": [
      "Acc: 95.6(2.3)%\n",
      "F1:  0.73(0.15)\n"
     ]
    },
    {
     "name": "stderr",
     "output_type": "stream",
     "text": [
      "\n"
     ]
    }
   ],
   "source": [
    "from sklearn.neural_network import MLPClassifier\n",
    "from sklearn.ensemble import RandomForestClassifier\n",
    "import numpy as np\n",
    "from sklearn import metrics\n",
    "import tqdm\n",
    "from sklearn.linear_model import LogisticRegression\n",
    "\n",
    "accs = []\n",
    "f1s = []\n",
    "models = []\n",
    "for i in tqdm.tqdm(range(10)):\n",
    "    X_train_i, X_val_i, y_train_i, y_val_i = train_test_split(X_train_bow, y_train, test_size=0.1, random_state=i,\n",
    "                                                               stratify=y_train, shuffle=True)\n",
    "\n",
    "    # Class weights\n",
    "    class_weights = get_class_weight(y_train_i)\n",
    "\n",
    "    #model = RandomForestClassifier(class_weight=class_weights, max_depth=10, n_estimators=200, n_jobs=3)\n",
    "    model = MLPClassifier(batch_size=32)\n",
    "    model.fit(X_train_i, y_train_i)\n",
    "\n",
    "    y_pred = model.predict(X_val_i)\n",
    "\n",
    "    accs.append(metrics.accuracy_score(y_val_i, y_pred))\n",
    "    f1s.append(metrics.f1_score(y_val_i, y_pred))\n",
    "    models.append(model)\n",
    "\n",
    "print(\"Acc: %.1f(%.1f)%%\" % (100 * np.mean(accs), 100 * np.std(accs)))\n",
    "print(\"F1:  %.2f(%.2f)\" % (np.mean(f1s), np.std(f1s)))\n",
    "\n",
    "best_model = models[np.argmax(f1s)]\n"
   ],
   "metadata": {
    "collapsed": false,
    "pycharm": {
     "name": "#%%\n"
    }
   }
  },
  {
   "cell_type": "code",
   "execution_count": 8,
   "outputs": [
    {
     "name": "stdout",
     "output_type": "stream",
     "text": [
      "              precision    recall  f1-score   support\n",
      "\n",
      "           0       0.98      1.00      0.99       104\n",
      "           1       1.00      0.83      0.91        12\n",
      "\n",
      "    accuracy                           0.98       116\n",
      "   macro avg       0.99      0.92      0.95       116\n",
      "weighted avg       0.98      0.98      0.98       116\n",
      "\n"
     ]
    }
   ],
   "source": [
    "from sklearn.metrics import classification_report\n",
    "\n",
    "y_pred = best_model.predict(X_test_bow)\n",
    "print(classification_report(y_test, y_pred))"
   ],
   "metadata": {
    "collapsed": false,
    "pycharm": {
     "name": "#%%\n"
    }
   }
  },
  {
   "cell_type": "code",
   "execution_count": 9,
   "outputs": [
    {
     "name": "stdout",
     "output_type": "stream",
     "text": [
      "[[104   0]\n",
      " [  2  10]]\n"
     ]
    }
   ],
   "source": [
    "from sklearn.metrics import confusion_matrix\n",
    "\n",
    "print(confusion_matrix(y_test, y_pred))"
   ],
   "metadata": {
    "collapsed": false,
    "pycharm": {
     "name": "#%%\n"
    }
   }
  }
 ],
 "metadata": {
  "kernelspec": {
   "display_name": "Python 3.7.13 ('ml_env')",
   "language": "python",
   "name": "python3"
  },
  "language_info": {
   "codemirror_mode": {
    "name": "ipython",
    "version": 3
   },
   "file_extension": ".py",
   "mimetype": "text/x-python",
   "name": "python",
   "nbconvert_exporter": "python",
   "pygments_lexer": "ipython3",
   "version": "3.7.13"
  },
  "orig_nbformat": 4,
  "vscode": {
   "interpreter": {
    "hash": "6c79f3b749ac1c615955d5d100e4e2835a83d7f04dde803c7105836bec394313"
   }
  }
 },
 "nbformat": 4,
 "nbformat_minor": 2
}