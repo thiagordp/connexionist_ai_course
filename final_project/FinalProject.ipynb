{
 "cells": [
  {
   "cell_type": "markdown",
   "metadata": {
    "pycharm": {
     "name": "#%% md\n"
    }
   },
   "source": [
    "# Final Project\n",
    "\n",
    "## Basic Information\n",
    "\n",
    "\n",
    "| **Title:**       | Deep Learning and Natural Language Processing applied to the legal texts |\n",
    "|------------------|----------------------------------------------------------|\n",
    "| **Abstract:**    |                                                        |\n",
    "| **Author:**      | Thiago Raulino Dal Pont                                |\n",
    "| **Affiliation:** | Graduate Program in Automation and Systems Engineering  |\n",
    "| **Date**         | July 14, 2022                                          |\n",
    "\n",
    "\n",
    "## Goals of the project\n",
    "\n",
    "- ...\n",
    "\n",
    "## Project structure\n",
    "- Preprocessing\n",
    "- Representation\n",
    "- Modeling\n",
    "- Evaluation\n",
    "\n",
    "\n",
    "## Requirements\n",
    "\n",
    "\n",
    "``pip install -r requirements.txt``\n",
    "\n",
    "``python3 -m spacy download pt_core_news_sm``\n"
   ]
  },
  {
   "cell_type": "markdown",
   "metadata": {
    "collapsed": false,
    "pycharm": {
     "name": "#%% md\n"
    }
   },
   "source": [
    "## Importing dependencies"
   ]
  },
  {
   "cell_type": "code",
   "execution_count": 7,
   "metadata": {
    "collapsed": false,
    "pycharm": {
     "name": "#%%\n"
    }
   },
   "outputs": [],
   "source": [
    "import os\n",
    "\n",
    "from sklearn.model_selection import train_test_split\n",
    "\n",
    "from src.modeling.util import get_class_weight\n",
    "from src.preprocessing.preprocessing_shallow_ml import PreProcessingShallowML"
   ]
  },
  {
   "cell_type": "markdown",
   "metadata": {
    "collapsed": false,
    "pycharm": {
     "name": "#%% md\n"
    }
   },
   "source": [
    "## Dataset basic information"
   ]
  },
  {
   "cell_type": "code",
   "execution_count": 8,
   "metadata": {
    "collapsed": false,
    "pycharm": {
     "name": "#%%\n"
    }
   },
   "outputs": [
    {
     "name": "stdout",
     "output_type": "stream",
     "text": [
      "Loading dataset\n",
      "{'labels': {'ganha': None, 'perde': None}}\n",
      "  -> Found 1044 files inside Data/final_dataset_2l_wo_result/ganha/*.txt\n",
      "  -> Found 116 files inside Data/final_dataset_2l_wo_result/perde/*.txt\n"
     ]
    }
   ],
   "source": [
    "DATASET_2CLASS_PATH = os.path.join(\"Data\", \"final_dataset_2l_wo_result\", \"\")\n",
    "\n",
    "preprocessor = PreProcessingShallowML()\n",
    "preprocessor.load_dataset(DATASET_2CLASS_PATH)\n"
   ]
  },
  {
   "cell_type": "markdown",
   "source": [
    "# Data preparation\n",
    "\n",
    "- In this project, we implemented a class to handle the text preprocessing in such a way that we can easily select distinct methods."
   ],
   "metadata": {
    "collapsed": false,
    "pycharm": {
     "name": "#%% md\n"
    }
   }
  },
  {
   "cell_type": "code",
   "execution_count": 9,
   "outputs": [],
   "source": [
    "# preprocessor.preprocess_corpus(\n",
    "#     keep_raw=True,\n",
    "#     lowercase=True,\n",
    "#     stemming=False,\n",
    "#     remove_html=True,\n",
    "#     remove_punct=True,\n",
    "#     remove_stopwords=True\n",
    "# )\n",
    "#\n",
    "# dataset_shallow_ml = preprocessor.df_corpora"
   ],
   "metadata": {
    "collapsed": false,
    "pycharm": {
     "name": "#%%\n"
    }
   }
  },
  {
   "cell_type": "code",
   "execution_count": 10,
   "outputs": [
    {
     "name": "stdout",
     "output_type": "stream",
     "text": [
      "Preprocessing corpus\n",
      "  -> Converting to lowercase\n",
      "  -> Removing HTML\n",
      "  -> Tokenizing\n",
      "  -> Removing punctuation\n",
      "  -> Joining tokens into string\n",
      "  -> A sample of the preprocessed data:\n",
      "[\"autos n° 0300982-26.2017.8.24.0090 ação procedimento do juizado especial cível/proc autor marco aurelio prass goetten réu gol transportes aéreos s/a vistos etc i. relatório relatório dispensado na forma do artigo 38 caput da lei 9.099/95 ii fundamentação trato de ação de indenização por danos morais ajuizada por marco aurelio prass goetten em face de gol transportes aéreos s/a julgo antecipadamente o feito porquanto a solução dos autos pode ser obtida da análise do direito que disciplina a matéria bem como pelo fato de que as provas carreadas são suficientes para a formação de meu convencimento valho-me pois do art 355 i do código de processo civil além disso impende ressaltar que a presente demanda se consubstancia em relação de consumo uma vez que as partes envolvidas na avença se enquadram nos conceitos de fornecedor e consumidor dispostos nos arts 3º e 2º da lei 8.078/1990 respectivamente sendo portanto imperioso que lhe sejam aplicados os preceitos insculpidos no código de defesa do consumidor preliminarmente requer a ré a retificação da razão social a fim de constar no polo passivo a parte gol linhas aéreas s/a acolho o pedido para que seja substituído o nome da parte no polo passivo conforme requerido infiro dos autos que a parte autora comprou passagem para o trecho florianópolis são paulo guarulhos brasília com chegada prevista no dia 09/11/2016 às 20:35 horas ocorre contudo que a chegada no aeroporto de guarulhos foi prejudicada em virtude do mau tempo tendo sido o voo redirecionado ao aeroporto do galeão no rio de janeiro com a liberação do aeroporto o avião retornou para são paulo todavia diante do horário o autor perdeu o voo com destino a brasília o qual foi remarcado para 07:30 horas do dia seguinte o autor alega que não foi oferecido hospedagem diante da suposta superlotação nos hotéis e que optou por retornar a florianópolis em voo com saída às 07:00 horas do dia 10/11/2016 assim requer indenização pelos danos morais decorrentes do atraso vivenciado em sede de contestação pela ré foi aduzido que o motivo do atraso foi o mau tempo circunstância que excluiria sua responsabilidade além disso asseverou a inexistência de danos morais indenizáveis de plano indefiro o pedido de justiça gratuita formulado pelo autor uma vez que não apresentou quaisquer documentos a fim de comprovar sua hipossuficiência destaco que a gratuidade judiciária deve ser garantida aos que realmente necessitam dessa garantia constitucional devendo ser concedida aos que efetivamente demonstrarem a condição de hipossuficiência financeira não bastando a simples afirmação pois o pedido deve vir acompanhado dos documentos que comprovem a condição de se tratar de pessoa com poucos recursos o art 734 do código civil estipula que `` o transportador responde pelos danos causados às pessoas transportadas e suas bagagens salvo motivo de força maior sendo nula qualquer cláusula excludente da responsabilidade '' no caso dos autos verifico que a ré apresentou uma imagem com as supostas condições climáticas no aeroporto de guarulhos/sp fl 31 a fim de comprovar o mau tempo na data dos fatos ocorre contudo que a justificativa apresentada não serve como excludente de responsabilidade isso porque ainda que as condições climáticas não fossem favoráveis não há qualquer informação acerca do fechamento dos aeroportos onus probandi que pertencia a ré nesse sentido entendo que o mau tempo não serve como justificativa para o atraso relatado em situação similar já decidiu o tribunal de justiça de santa catarina o pouso e a decolagem não se operam de forma automática pela simples vontade de passageiros ou da própria companhia aérea em nome da segurança do voo podem ocorrer atrasos ou mesmo cancelamento de determinados voos entretanto compete à companhia aérea a prova documental oriunda de órgãos oficiais reconhecidos de que determinados vôos foram cancelados por circunstâncias absolutamente alheias à vontade da empresa prova que não pode ser relegada à juntada de extratos com complexas siglas e de interpretação duvidosa mormente quando outras companhias aéreas estariam operando normalmente no mesmo aeródromo a prova de caso fortuito ou de força maior que impediu o cumprimento do contrato de transporte pertence à companhia aérea tjsc apelação cível n. 2008.601118-2 de rio do sul rel des leandro passig mendes j 27-10-2008 não havendo excludente de responsabilidade e tratando-se de contrato de transporte regido pelo código de defesa do consumidor imperioso que a ré seja condenada a indenizar a parte acionante pelos transtornos vivenciados isso porque os danos extrapatrimoniais advindos do atraso no voo operam-se in re ipsa por força do simples fato da sua violação em virtude do desconforto da aflição e dos transtornos suportados pelo passageiro stj resp 299.532/sp rel des convocado honildo amaral de mello castro julg 27/10/09 acerca do quanto devido inexistentes parâmetros objetivos para a fixação do dano moral e estando este no arbítrio motivado do magistrado na forma do art 946 do código civil algumas particularidades hão de ser levadas em consideração em relação a cada litigante ou seja incumbe ao magistrado a fixação de verba que corresponda tanto quanto possível à situação sócio-econômica do ofensor sem perder de vista a necessidade de avaliação da repercussão do evento danoso na vida da vítima essas questões exigem que o montante reparatório esteja embasado em critérios de razoabilidade tendentes a reconhecer e condenar o réu a pagar valor que não importe enriquecimento sem causa ao lesado mas uma efetiva reparação de caráter moral e uma séria reprimenda ao ofensor tornando desvantajosa a reincidência no caso em apreço o autor alega que em decorrência do atraso do voo não iria chegar em tempo hábil a seu compromisso profissional optando por retornar a cidade de origem todavia não acosta aos autos prova do referido compromisso observo que diante do remanejamento do voo para o dia seguinte a espera no aeroporto superou o limite de quatro horas e não foi oferecida a devida assistência ao autor assim sopesando as circunstâncias dos fatos a condição econômica das partes o caráter pedagógico da cominação bem como o atraso de aproximadamente 12 doze horas para embarque na aeronave fixo a quantia de r 4.000,00 quatro mil reais a título de indenização por danos morais após fixar o valor da indenização cabe dizer que a correção monetária flui do arbitramento enunciado 362 da súmula do stj e os juros de mora da citação falta de cumprimento dos deveres do contrato firmado entre as partes stj edcl no resp 400843 rs relator ministro carlos alberto menezes direito j. em 09.08.2007 por fim entendo que a situação vivenciada pelo autor poderá ser informada diretamente pela parte à agência nacional de aviação civil anac não dependendo a referida comunicação de deliberação deste juízo p. r. i. arquivem-se oportunamente florianópolis sc 25 de setembro de 2017. vânia petermann juíza de direito\"]\n"
     ]
    }
   ],
   "source": [
    "preprocessor.preprocess_corpus(\n",
    "    keep_raw=True,\n",
    "    lowercase=True,\n",
    "    stemming=False,\n",
    "    remove_html=True,\n",
    "    remove_punct=True,\n",
    "    remove_stopwords=False\n",
    ")\n",
    "\n",
    "dataset_dl = preprocessor.df_corpora"
   ],
   "metadata": {
    "collapsed": false,
    "pycharm": {
     "name": "#%%\n"
    }
   }
  },
  {
   "cell_type": "markdown",
   "source": [
    "- Dataset splitting"
   ],
   "metadata": {
    "collapsed": false,
    "pycharm": {
     "name": "#%% md\n"
    }
   }
  },
  {
   "cell_type": "code",
   "execution_count": 11,
   "outputs": [
    {
     "name": "stdout",
     "output_type": "stream",
     "text": [
      "Dataset shapes:\n",
      " -> Train: X=(928,)\ty=(928,)\n",
      " -> Test:  X=(232,)\ty=(232,)\n"
     ]
    }
   ],
   "source": [
    "X = dataset_dl[\"processed_content\"]\n",
    "y = dataset_dl[\"label\"]\n",
    "\n",
    "X_train, X_test, y_train, y_test = train_test_split(X, y, test_size=0.2, random_state=123, stratify=y, shuffle=True)\n",
    "print(\"Dataset shapes:\")\n",
    "print(\" -> Train: X=%s\\ty=%s\" % (str(X_train.shape), str(y_train.shape)))\n",
    "print(\" -> Test:  X=%s\\ty=%s\" % (str(X_test.shape), str(y_test.shape)))"
   ],
   "metadata": {
    "collapsed": false,
    "pycharm": {
     "name": "#%%\n"
    }
   }
  },
  {
   "cell_type": "code",
   "execution_count": 12,
   "outputs": [
    {
     "name": "stdout",
     "output_type": "stream",
     "text": [
      "Calculating class weights\n",
      "Labels: ['ganha' 'perde']\n",
      "Class weights: [0.55568862 4.98924731]\n"
     ]
    },
    {
     "data": {
      "text/plain": "{0: 0.555688622754491, 1: 4.989247311827957}"
     },
     "execution_count": 12,
     "metadata": {},
     "output_type": "execute_result"
    }
   ],
   "source": [
    "\n",
    "# Class weights\n",
    "class_weights = get_class_weight(y_train)\n",
    "class_weights"
   ],
   "metadata": {
    "collapsed": false,
    "pycharm": {
     "name": "#%%\n"
    }
   }
  },
  {
   "cell_type": "markdown",
   "source": [
    "## Modelling with Deep Learning\n",
    "\n",
    "In this section, we apply the dataset"
   ],
   "metadata": {
    "collapsed": false,
    "pycharm": {
     "name": "#%% md\n"
    }
   }
  },
  {
   "cell_type": "code",
   "execution_count": 16,
   "outputs": [
    {
     "ename": "ModuleNotFoundError",
     "evalue": "No module named 'tf'",
     "output_type": "error",
     "traceback": [
      "\u001B[0;31m---------------------------------------------------------------------------\u001B[0m",
      "\u001B[0;31mModuleNotFoundError\u001B[0m                       Traceback (most recent call last)",
      "\u001B[0;32m/tmp/ipykernel_35100/3669090334.py\u001B[0m in \u001B[0;36m<module>\u001B[0;34m\u001B[0m\n\u001B[1;32m     17\u001B[0m \u001B[0;32mimport\u001B[0m \u001B[0mtensorflow\u001B[0m \u001B[0;32mas\u001B[0m \u001B[0mtf\u001B[0m\u001B[0;34m\u001B[0m\u001B[0;34m\u001B[0m\u001B[0m\n\u001B[1;32m     18\u001B[0m \u001B[0;32mfrom\u001B[0m \u001B[0mkeras\u001B[0m\u001B[0;34m.\u001B[0m\u001B[0mpreprocessing\u001B[0m\u001B[0;34m.\u001B[0m\u001B[0mtext\u001B[0m \u001B[0;32mimport\u001B[0m \u001B[0mTokenizer\u001B[0m\u001B[0;34m\u001B[0m\u001B[0;34m\u001B[0m\u001B[0m\n\u001B[0;32m---> 19\u001B[0;31m \u001B[0;32mfrom\u001B[0m \u001B[0mtf\u001B[0m\u001B[0;34m.\u001B[0m\u001B[0mkeras\u001B[0m\u001B[0;34m.\u001B[0m\u001B[0mpreprocessing\u001B[0m\u001B[0;34m.\u001B[0m\u001B[0msequence\u001B[0m \u001B[0;32mimport\u001B[0m \u001B[0mpad_sequences\u001B[0m\u001B[0;34m\u001B[0m\u001B[0;34m\u001B[0m\u001B[0m\n\u001B[0m\u001B[1;32m     20\u001B[0m \u001B[0;32mfrom\u001B[0m \u001B[0mkeras\u001B[0m\u001B[0;34m.\u001B[0m\u001B[0mlayers\u001B[0m \u001B[0;32mimport\u001B[0m \u001B[0mDense\u001B[0m\u001B[0;34m,\u001B[0m \u001B[0mInput\u001B[0m\u001B[0;34m,\u001B[0m \u001B[0mCuDNNLSTM\u001B[0m\u001B[0;34m,\u001B[0m \u001B[0mEmbedding\u001B[0m\u001B[0;34m,\u001B[0m \u001B[0mDropout\u001B[0m\u001B[0;34m,\u001B[0m \u001B[0mActivation\u001B[0m\u001B[0;34m,\u001B[0m \u001B[0mCuDNNGRU\u001B[0m\u001B[0;34m,\u001B[0m \u001B[0mConv1D\u001B[0m\u001B[0;34m\u001B[0m\u001B[0;34m\u001B[0m\u001B[0m\n\u001B[1;32m     21\u001B[0m \u001B[0;32mfrom\u001B[0m \u001B[0mkeras\u001B[0m\u001B[0;34m.\u001B[0m\u001B[0mlayers\u001B[0m \u001B[0;32mimport\u001B[0m \u001B[0mBidirectional\u001B[0m\u001B[0;34m,\u001B[0m \u001B[0mGlobalMaxPool1D\u001B[0m\u001B[0;34m,\u001B[0m \u001B[0mGlobalMaxPooling1D\u001B[0m\u001B[0;34m,\u001B[0m \u001B[0mGlobalAveragePooling1D\u001B[0m\u001B[0;34m\u001B[0m\u001B[0;34m\u001B[0m\u001B[0m\n",
      "\u001B[0;31mModuleNotFoundError\u001B[0m: No module named 'tf'"
     ]
    }
   ],
   "source": [
    "## some config values\n",
    "embed_size = 300 # how big is each word vector\n",
    "max_features = 95000 # how many unique words to use (i.e num rows in embedding vector)\n",
    "maxlen = 50 # max number of words in a question to use\n",
    "\n",
    "import os\n",
    "import time\n",
    "import numpy as np # linear algebra\n",
    "import pandas as pd # data processing, CSV file I/O (e.g. pd.read_csv)\n",
    "from tqdm import tqdm\n",
    "import math\n",
    "from sklearn.model_selection import train_test_split\n",
    "from sklearn import metrics\n",
    "from sklearn.model_selection import GridSearchCV, StratifiedKFold\n",
    "from sklearn.metrics import f1_score, roc_auc_score\n",
    "\n",
    "import tensorflow as tf\n",
    "from keras.preprocessing.text import Tokenizer\n",
    "from tf.keras.preprocessing.sequence import pad_sequences\n",
    "from keras.layers import Dense, Input, CuDNNLSTM, Embedding, Dropout, Activation, CuDNNGRU, Conv1D\n",
    "from keras.layers import Bidirectional, GlobalMaxPool1D, GlobalMaxPooling1D, GlobalAveragePooling1D\n",
    "from keras.layers import Input, Embedding, Dense, Conv2D, MaxPool2D, concatenate\n",
    "from keras.layers import Reshape, Flatten, Concatenate, Dropout, SpatialDropout1D\n",
    "from keras.optimizers import Adam\n",
    "from keras.models import Model\n",
    "from keras import backend as K\n",
    "from keras.engine.topology import Layer\n",
    "from keras import initializers, regularizers, constraints, optimizers, layers\n",
    "from keras.layers import concatenate\n",
    "from keras.callbacks import *"
   ],
   "metadata": {
    "collapsed": false,
    "pycharm": {
     "name": "#%%\n"
    }
   }
  }
 ],
 "metadata": {
  "kernelspec": {
   "display_name": "Python 3.7.13 ('ml_env')",
   "language": "python",
   "name": "python3"
  },
  "language_info": {
   "codemirror_mode": {
    "name": "ipython",
    "version": 3
   },
   "file_extension": ".py",
   "mimetype": "text/x-python",
   "name": "python",
   "nbconvert_exporter": "python",
   "pygments_lexer": "ipython3",
   "version": "3.7.13"
  },
  "orig_nbformat": 4,
  "vscode": {
   "interpreter": {
    "hash": "6c79f3b749ac1c615955d5d100e4e2835a83d7f04dde803c7105836bec394313"
   }
  }
 },
 "nbformat": 4,
 "nbformat_minor": 2
}