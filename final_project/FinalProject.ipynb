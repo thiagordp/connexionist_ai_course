{
 "cells": [
  {
   "cell_type": "markdown",
   "metadata": {
    "pycharm": {
     "name": "#%% md\n"
    }
   },
   "source": [
    "# Final Project\n",
    "\n",
    "## Basic Information\n",
    "\n",
    "\n",
    "| **Title:**       | Deep Learning and Natural Language Processing applied to the legal texts |\n",
    "|------------------|----------------------------------------------------------|\n",
    "| **Abstract:**    |                                                        |\n",
    "| **Author:**      | Thiago Raulino Dal Pont                                |\n",
    "| **Affiliation:** | Graduate Program in Automation and Systems Engineering  |\n",
    "| **Date**         | July 14, 2022                                          |\n",
    "\n",
    "\n",
    "## Goals of the project\n",
    "\n",
    "- ...\n",
    "\n",
    "## Project structure\n",
    "- Preprocessing\n",
    "- Representation\n",
    "- Modeling\n",
    "- Evaluation\n",
    "\n",
    "\n",
    "## Requirements\n",
    "\n",
    "\n",
    "``pip install -r requirements.txt``\n",
    "\n",
    "``python3 -m spacy download pt_core_news_sm``\n"
   ]
  },
  {
   "cell_type": "markdown",
   "metadata": {
    "collapsed": false,
    "pycharm": {
     "name": "#%% md\n"
    }
   },
   "source": [
    "## Importing dependencies"
   ]
  },
  {
   "cell_type": "code",
   "execution_count": 1,
   "metadata": {
    "collapsed": false,
    "pycharm": {
     "name": "#%%\n"
    }
   },
   "outputs": [],
   "source": [
    "import os\n",
    "\n",
    "from sklearn.feature_extraction.text import TfidfVectorizer\n",
    "from sklearn.model_selection import train_test_split\n",
    "\n",
    "from src.modeling.util import get_class_weight\n",
    "from src.preprocessing.preprocessing_shallow_ml import PreProcessingShallowML"
   ]
  },
  {
   "cell_type": "markdown",
   "metadata": {
    "collapsed": false,
    "pycharm": {
     "name": "#%% md\n"
    }
   },
   "source": [
    "## Dataset basic information"
   ]
  },
  {
   "cell_type": "code",
   "execution_count": 2,
   "metadata": {
    "collapsed": false,
    "pycharm": {
     "name": "#%%\n"
    }
   },
   "outputs": [
    {
     "name": "stdout",
     "output_type": "stream",
     "text": [
      "Loading dataset\n",
      "{'labels': {'ganha': None, 'perde': None}}\n",
      "  -> Found 1044 files inside Data/final_dataset_2l_wo_result/ganha/*.txt\n",
      "  -> Found 116 files inside Data/final_dataset_2l_wo_result/perde/*.txt\n"
     ]
    }
   ],
   "source": [
    "DATASET_2CLASS_PATH = os.path.join(\"Data\", \"final_dataset_2l_wo_result\", \"\")\n",
    "\n",
    "preprocessor = PreProcessingShallowML()\n",
    "preprocessor.load_dataset(DATASET_2CLASS_PATH)\n"
   ]
  },
  {
   "cell_type": "markdown",
   "source": [
    "# Data preparation\n",
    "\n",
    "- In this project, we implemented a class to handle the text preprocessing in such a way that we can easily select distinct methods."
   ],
   "metadata": {
    "collapsed": false,
    "pycharm": {
     "name": "#%% md\n"
    }
   }
  },
  {
   "cell_type": "code",
   "execution_count": 3,
   "outputs": [
    {
     "name": "stdout",
     "output_type": "stream",
     "text": [
      "Preprocessing corpus\n",
      "  -> Converting to lowercase\n",
      "  -> Removing HTML\n",
      "  -> Tokenizing\n",
      "  -> Removing punctuation\n",
      "  -> Removing Stopwords\n",
      "  -> Joining tokens into string\n",
      "  -> A sample of the preprocessed data:\n",
      "[\"autos n° 0301090-84.2019.8.24.0090 ação procedimento juizado especial cível/proc autor antonio schincariol vicente réu oceanair linhas aéreas s/a avianca vistos etc i. relatório relatório dispensado forma artigo 38 caput lei 9.099/95 ii fundamentação trato ação indenizatória ajuizada antonio schincariol vicente face oceanair linhas aéreas s/a avianca julgo antecipadamente feito porquanto solução lide pode obtida análise direito disciplina matéria bem provas carreadas autos serem suficientes formação convencimento valho-me pois art 355 i código processo civil além disso impende ressaltar presente demanda consubstancia relação consumo vez partes envolvidas avença enquadram conceitos fornecedor consumidor dispostos arts 3º 2º lei 8.078/1990 respectivamente sendo portanto imperioso aplicados preceitos insculpidos código defesa consumidor narra parte autora comprou passagens ida volta viajar esposa casal amigos colômbia relata ida 03/10/2018 tudo ocorreu dentro normalidade entretanto volta 11/10/2018 comprar novas passagens casal amigos retornarem brasil pois passagens destes adquiridas autor localizadas ré sistema acrescenta comprou passagens valor equivalente r 6.287,02 seis mil duzentos oitenta sete reais dois centavos forma parcelada dez prestações meio cartão crédito contudo pagamento cobrado integralidade fatura vencimento 20/11/2018 acompanhado r 675,22 seiscentos setenta cinco reais vinte dois centavos referente imposto sobre operações financeiras iof assim requer condenação parte ré pagamento indenização danos materiais correspondentes devolução dobro quantia paga passagens aéreas totaliza r 13.353,92 treze mil trezentos cinquenta três reais noventa dois centavos acrescido r 20.000.00 vinte mil reais título danos morais vez parte ré trans american airlines s/a taca peru compareceu voluntariamente audiência apresentou contestação sustentando pequena falha sistema gestão check-in forma imprevisível caracterizando excludente responsabilidade civil caso fortuito/força maior parte ré oceanair linhas aéreas s/a avianca suscita preliminares ilegitimidade passiva vez voo operacionalizado companhia aérea taca peru sendo possível responsabilização fatos alegados aplicabilidade convenção montreal suspensão feito decorrência recuperação judicial avianca início cumpre-se incluir polo passivo parte trans american airlines s.a taca peru operou linha contratada autor compareceu voluntariamente juízo tempo afasto alegação ilegitimidade passiva oceanair vez faz parte mesma cadeia consumo empresa indicada taca peru voo questão pertence ainda base teoria aparência tendo vista empresas realizam venda divulgação passagens aéreas sob nome imagem `` avianca '' assim ambas companhias capazes responder solidariamente eventuais danos causados assim prosseguimento feito relação rés oceanair linhas aéreas s/a trans american airlines s.a. – taca peru solidariamente polo passivo.friso ademais aplicação convenções varsóvia montreal caso exame pois previsão referida norma acerca tema discutido nestes autos friso ademais aplicação convenções varsóvia montreal caso exame pois previsão referida norma acerca tema discutido nestes autos concerne prefacial suspensão feito decorrência recuperação judicial oceanair linhas aéreas s/a avianca deve rechaçada vez crédito sequer formado apenas atos constritivos ficam sob responsabilidade única juízo recuperação nesse sentido agravo instrumento ação adimplemento contratual telefonia demanda fase cumprimento sentença insurgência ré pedido suspensão processo formulado fundamento deferimento processamento recuperação judicial empresa telefonia ausência definição crédito necessidade apuração definitivo exato valor devido incidência exceção prevista art 6º § 1º lei n. 11.101/2005 possibilidade regular prosseguimento feito vedada contudo prática novos atos constrição patrimonial precedentes desta corte justiça ... tjsc agravo instrumento n. 4005220-72.2017.8.24.0000 rio campo rel des soraya nunes lins quinta câmara direito comercial j 06-12-2018 pois bem passo mérito termos art 14 caput código defesa consumidor responsabilidade fornecedor danos causados consumidores defeitos decorrentes prestação serviços objetiva independe comprovação culpa caso apreço companhia aérea ré logrou demonstrar ocorrência quaisquer excludentes responsabilidade previstas art 14 §3º código consumidor saber tendo prestado serviço defeito inexiste culpa exclusiva consumidor terceiro efeito apesar ré admitir erro interno sistema fl 70 nada acostou fim corroborar versão verifico ainda documentos fls 26/37 confirmam aquisição passagens sido trazida autos alguma espécie cientificação prévia passageiros acerca problema reserva assim resta incontroverso passagens aéreas localizadas dia embarque tão somente razão falha sistema ré cabe ressaltar ademais art 12 resolução n° 400/2016 anac prevê prazo 72 setenta duas horas prévia cientificação passageiros casos alterações realizadas forma programada transportador tampouco cumprido empresa aérea portanto sendo certo parte ré logrou êxito comprovar quaisquer excludentes responsabilidade previstas art 14 §3º código defesa consumidor evidente falha prestação serviço impõe dever reparar danos causados parte requerente comprova autor precisou adquirir momento embarque novas passagens aéreas amigos poderem retornar brasil fls 46/49 sendo devido portanto reembolso destas entretanto restituição deve simples vez situação comento enquadra hipótese parágrafo único art 42 código defesa consumidor restando comprovada cobrança quantia indevida tampouco má-fé parte requerida quanto ocorrência dano moral entendo fatos ultrapassam entende mero dissabor devendo consumidor pois indenizado danos extrapatrimoniais sofridos além ré ter cancelado unilateralmente passagens momento embarque – certamente gera insegurança frustração passageiro prestes embarcar país estrangeiro vê impedido – verifico autor comprou passagens aéreas forma parcela dez prestações fl 46 todavia primeira fatura cartão crédito recebida valor cobrado integralidade fl 53 anoto ainda autor tentou resolver questão meio chat ré entretanto informou autor precisaria retornar colômbia presencialmente argumento adquiriu bilhetes pessoalmente aeroporto fls 61/62 nesse sentido recurso inominado ação indenização danos materiais morais serviço transporte aéreo bilhetes aéreos cancelados devido erro sistema companhia aérea demonstrado autos `` confirmação compra passagem '' demandada devido falha sistema reserva cancelada razão encerramento voo necessidade adquirir novos bilhetes.danos materiais comprovados restituição milhas valores despendidos novas passagens análise autos verifica-se autor possuía bilhetes pagos milhas despendidas razão reembolso destes devido ante perda voo justificativa plausível.danos morais devidos `` cancelamento voo comprovação justificativa plausível determinada condições climáticas adversas impedimento determinado terceiro sujeita companhia aérea indenização danos sofridos passageiros além inúmeros percalços sujeitaram mau atendimento prestado tendo viajado hora prevista perderam compromissos ordem pessoal patrimonial profissional '' tjsc apelação cível n. 2015.069349-2 taió rel des jaime ramos j 29-10-2015 .quantum indenizatório falar redução quantum arbitrado `` quantum indenização dano moral fixado moderação respeito princípios razoabilidade proporcionalidade levando conta condições sociais econômicas partes grau culpa extensão sofrimento psíquico modo possa significar reprimenda ofensor abstenha praticar fatos idênticos futuro ocasione enriquecimento injustificado lesado '' tjsc apelação cível n. 2013.061873-5. relator jaime ramos julgado 12/12/2013 sentença mantida próprios fundamentos recurso conhecido desprovido.decisão tjsc recurso inominado n. 0319550-05.2014.8.24.0023 capital eduardo luz rel des fernando vieira luiz primeira turma recursos capital j 25-11-2015 acerca quantum devido sopesando circunstâncias caso condições pessoais partes bem caráter pedagógico medida arbitro valor r 4.000,00 quatro mil reais título indenização danos morais após fixar valor indenização cabe dizer correção monetária flui arbitramento enunciado 362 súmula stj juros mora citação falta cumprimento deveres contrato firmado partes stj edcl resp 400843 rs relator ministro carlos alberto menezes direito j. 09.08.2007 ressalvo contudo sabido empresa ré oceanair linhas aéreas s/a avianca encontra-se processo recuperação judicial cujo deferimento ocorreu 13/12/2018 conforme decisão proferida juízo 1ª vara falências recuperações judiciais comarca paulo estado paulo ademais prevê plano recuperação homologado `` homologação judicial plano todas execuções judiciais curso envolvendo créditos detidos contra recuperandas extintas exclusivamente relação recuperandas '' recurso especial ação compensação danos morais devedor recuperação judicial negativa prestação jurisdicional verificada constituição crédito evento danoso ocorrido momento anterior pedido recuperacional submissão efeitos sentença condenatória proferida posteriormente irrelevância 1. ação ajuizada 20/5/2013 recurso especial interposto 27/9/2017 concluso gabinete 8/3/2018 2. propósito recursal definir crédito titularidade recorridas decorrente sentença condenatória transitada julgado após pedido recuperação judicial devedor deve sujeitar-se plano soerguimento 3. devidamente analisadas discutidas questões controvertidas suficientemente fundamentado acórdão recorrido reconhecer ocorrência negativa prestação jurisdicional 4. fins art 49 caput lei 11.101/05 constituição crédito discutido ação responsabilidade civil condiciona provimento judicial declare existência determine quantificação precedente 5. hipótese tratando-se crédito derivado fato ocorrido momento anterior àquele requerida recuperação judicial deve reconhecida sujeição plano soerguimento sociedade devedora 6. recurso especial provido resp 1727771/rs rel ministra nancy andrighi terceira turma julgado 15/05/2018 dje 18/05/2018 desse modo considerando fato deu origem condenação ré aquisição passagens anterior deferimento pedido recuperação portanto crédito concursal ressalto desde inclusive evitar ajuizamento infrutífero incidente cumprimento sentença hipótese parte autora promover cobrança face oceanair linhas aéreas s/a avianca deverá habilitar crédito juízo recuperação demais concursais pagamento ocorrerá forma determinada plano recuperação nada podendo feito neste juízo florianópolis sc 27 novembro 2019. vânia petermann juíza direito\"]\n"
     ]
    }
   ],
   "source": [
    "preprocessor.preprocess_corpus(\n",
    "    keep_raw=True,\n",
    "    lowercase=True,\n",
    "    stemming=False,\n",
    "    remove_html=True,\n",
    "    remove_punct=True,\n",
    "    remove_stopwords=True\n",
    ")\n",
    "\n",
    "dataset_shallow_ml = preprocessor.df_corpora"
   ],
   "metadata": {
    "collapsed": false,
    "pycharm": {
     "name": "#%%\n"
    }
   }
  },
  {
   "cell_type": "code",
   "execution_count": 29,
   "outputs": [
    {
     "name": "stdout",
     "output_type": "stream",
     "text": [
      "Preprocessing corpus\n",
      "  -> Converting to lowercase\n",
      "  -> Removing HTML\n",
      "  -> Tokenizing\n",
      "  -> Removing punctuation\n",
      "  -> Joining tokens into string\n",
      "  -> A sample of the preprocessed data:\n",
      "['autos n° 0305612-96.2015.8.24.0090 ação procedimento do juizado especial cível/proc autor francisca maria barbosa cavalcanti réu tam linhas aéreas s/a vistos para sentença i – relatório relatório dispensado nos termos do art 38 da lei 9.099/1995 ii fundamentação trato de ação condenatória ajuizada por francisca maria barbosa cavalcanti contra tam linhas aéreas s/a julgo antecipadamente o feito porquanto a solução dos autos pode ser obtida através da análise do direito que disciplina a matéria bem como pelo fato de que as provas carreadas são suficientes para a formação de meu convencimento valho-me pois do art 355 i do código de processo civil além disso impende ressaltar que a presente demanda se consubstancia em relação de consumo uma vez que as partes envolvidas na avença se enquadram nos conceitos de fornecedor e consumidor dispostos nos arts 3º e 2º da lei 8.078/1990 respectivamente sendo portanto imperioso que lhe sejam aplicados os preceitos insculpidos no código de defesa do consumidor nesse sentido a jurisprudência deste superior tribunal de justiça se orienta no sentido de prevalência das normas do código de defesa do consumidor em detrimento das disposições insertas em convenções internacionais como a convenção de montreal por verificar a existência da relação de consumo entre a empresa aérea e o passageiro haja vista que a própria constituição federal de 1988 elevou a defesa do consumidor à esfera constitucional de nosso ordenamento agrg no aresp 388.975/ma rel ministro marco buzzi quarta turma julgado em 17/10/2013 dje 24/10/2013 infiro dos autos que a autora adquiriu da ré passagens aéreas dos trechos florianópolis sc – são paulo sp e são paulo– santiago/chile para o dia 14/08/2015 chegando ao seu destino final foi surpreendida ao constatar que sua mala havia sido extraviada diante disso efetuou reclamação perante a empresa de código n° scl jj 18054. segundo afirma o motivo da viagem foi a participação como professora em um curso de canto e canto-terapia e em razão disso sua bagagem continha além de objetos pessoais e de higiene equipamentos imprescindíveis à realização de seu trabalho diante disso considerando que apenas 3 dias após sua chegada ao local sua mala foi entregue postula a condenação da ré ao pagamento de indenização por danos morais em sede de contestação a ré apresentou defesa genérica deixando de impugnar os fatos alegados na inicial ou apresentando qualquer justificativa para o extravio das malas apenas sustentou a aplicabilidade de tratados internacionais bem como os limites neles estabelecidos em relação ao pagamento de indenizações aos passageiros a lei processual civil brasileira art 341 caput imputa ao réu o chamado ônus da defesa especificada por força do qual lhe compete no ato de oferecimento da contestação insurgir-se detalhadamente de forma séria e consistente contra os fatos constitutivos narrados na petição inicial nesse sentido administrativo e processual civil indenização por danos patrimoniais ... ônus da impugnação específica presunção de veracidade dos fatos ... 2. cabe ao réu nos termos do art 302 do cpc manifestar-se precisamente sobre os fatos narrados na petição inicial sob pena de recair sobre eles a presunção de veracidade ... grifou-se agrg no resp 1187684/sp rel min humberto martins segunda turma j 22-5-2012 no caso dos autos observo que o extravio da bagagem é fato incontroverso ou seja a falha na prestação do serviço não foi refutada pela ré em verdade admitiu a falha na prestação do serviço nesse sentido não havendo excludente de responsabilidade deve ser condenada a indenizar a demandante pelos infortúnios vivenciados em relação aos danos morais é evidente que o fato de não ter seus pertencentes em um país diverso do seu é situação que gera profundo abalo – especialmente porque a mala continha objetos de uso indispensável à realização do curso para o qual a autora foi contratada sobre o tema o tribunal de justiça de santa catarina já se manifestou é inquestionável o abalo moral sofrido por passageiro que teve sua bagagem extraviada por falha operacional de empresa aérea sendo inegáveis o aborrecimento o transtorno e o sofrimento que essa circunstância gera no espírito do passageiro situação que certamente escapa da condição de mero dissabor cotidiano tjsc apelação n. 0501797-40.2013.8.24.0038 de joinville rel des sérgio roberto baasch luz j 26-4-2016 acerca do quanto devido inexistindo parâmetros objetivos para a fixação do valor algumas particularidades hão de ser levadas em consideração em relação a cada litigante assim incumbe ao magistrado a fixação de verba que corresponda tanto quanto possível à situação sócio-econômica do ofensor sem perder de vista a necessidade de avaliação da repercussão do evento danoso na vida da vítima nesse contexto atentando-me às circunstância do caso – especialmente em razão do extravio ter ocorrido na ida e ter perdurado por 3 dias fixo a quantia de r 5.000,00 cinco mil reais a titulo de indenização pelos danos morais p. r. i. arquivem-se oportunamente florianópolis sc 19 de setembro de 2016. vânia petermann juíza de direito']\n"
     ]
    }
   ],
   "source": [
    "preprocessor.preprocess_corpus(\n",
    "    keep_raw=True,\n",
    "    lowercase=True,\n",
    "    stemming=False,\n",
    "    remove_html=True,\n",
    "    remove_punct=True,\n",
    "    remove_stopwords=False\n",
    ")\n",
    "\n",
    "dataset_dl = preprocessor.df_corpora"
   ],
   "metadata": {
    "collapsed": false,
    "pycharm": {
     "name": "#%%\n"
    }
   }
  },
  {
   "cell_type": "markdown",
   "source": [
    "- Dataset splitting"
   ],
   "metadata": {
    "collapsed": false,
    "pycharm": {
     "name": "#%% md\n"
    }
   }
  },
  {
   "cell_type": "code",
   "execution_count": 4,
   "outputs": [
    {
     "ename": "NameError",
     "evalue": "name 'dataset_dl' is not defined",
     "output_type": "error",
     "traceback": [
      "\u001B[0;31m---------------------------------------------------------------------------\u001B[0m",
      "\u001B[0;31mNameError\u001B[0m                                 Traceback (most recent call last)",
      "\u001B[0;32m/tmp/ipykernel_53494/226675459.py\u001B[0m in \u001B[0;36m<module>\u001B[0;34m\u001B[0m\n\u001B[0;32m----> 1\u001B[0;31m \u001B[0mX\u001B[0m \u001B[0;34m=\u001B[0m \u001B[0mdataset_dl\u001B[0m\u001B[0;34m[\u001B[0m\u001B[0;34m\"processed_content\"\u001B[0m\u001B[0;34m]\u001B[0m\u001B[0;34m\u001B[0m\u001B[0;34m\u001B[0m\u001B[0m\n\u001B[0m\u001B[1;32m      2\u001B[0m \u001B[0my\u001B[0m \u001B[0;34m=\u001B[0m \u001B[0mdataset_dl\u001B[0m\u001B[0;34m[\u001B[0m\u001B[0;34m\"label\"\u001B[0m\u001B[0;34m]\u001B[0m\u001B[0;34m\u001B[0m\u001B[0;34m\u001B[0m\u001B[0m\n\u001B[1;32m      3\u001B[0m \u001B[0;34m\u001B[0m\u001B[0m\n\u001B[1;32m      4\u001B[0m \u001B[0mX_train\u001B[0m\u001B[0;34m,\u001B[0m \u001B[0mX_test\u001B[0m\u001B[0;34m,\u001B[0m \u001B[0my_train\u001B[0m\u001B[0;34m,\u001B[0m \u001B[0my_test\u001B[0m \u001B[0;34m=\u001B[0m \u001B[0mtrain_test_split\u001B[0m\u001B[0;34m(\u001B[0m\u001B[0mX\u001B[0m\u001B[0;34m,\u001B[0m \u001B[0my\u001B[0m\u001B[0;34m,\u001B[0m \u001B[0mtest_size\u001B[0m\u001B[0;34m=\u001B[0m\u001B[0;36m0.2\u001B[0m\u001B[0;34m,\u001B[0m \u001B[0mrandom_state\u001B[0m\u001B[0;34m=\u001B[0m\u001B[0;36m123\u001B[0m\u001B[0;34m,\u001B[0m \u001B[0mstratify\u001B[0m\u001B[0;34m=\u001B[0m\u001B[0my\u001B[0m\u001B[0;34m,\u001B[0m \u001B[0mshuffle\u001B[0m\u001B[0;34m=\u001B[0m\u001B[0;32mTrue\u001B[0m\u001B[0;34m)\u001B[0m\u001B[0;34m\u001B[0m\u001B[0;34m\u001B[0m\u001B[0m\n\u001B[1;32m      5\u001B[0m \u001B[0mprint\u001B[0m\u001B[0;34m(\u001B[0m\u001B[0;34m\"Dataset shapes:\"\u001B[0m\u001B[0;34m)\u001B[0m\u001B[0;34m\u001B[0m\u001B[0;34m\u001B[0m\u001B[0m\n",
      "\u001B[0;31mNameError\u001B[0m: name 'dataset_dl' is not defined"
     ]
    }
   ],
   "source": [
    "X = dataset_dl[\"processed_content\"]\n",
    "y = dataset_dl[\"label\"]\n",
    "\n",
    "X_train, X_test, y_train, y_test = train_test_split(X, y, test_size=0.2, random_state=123, stratify=y, shuffle=True)\n",
    "print(\"Dataset shapes:\")\n",
    "print(\" -> Train: X=%s\\ty=%s\" % (str(X_train.shape), str(y_train.shape)))\n",
    "print(\" -> Test:  X=%s\\ty=%s\" % (str(X_test.shape), str(y_test.shape)))"
   ],
   "metadata": {
    "collapsed": false,
    "pycharm": {
     "name": "#%%\n"
    }
   }
  },
  {
   "cell_type": "code",
   "execution_count": 31,
   "outputs": [
    {
     "name": "stdout",
     "output_type": "stream",
     "text": [
      "Calculating class weights\n",
      "Labels: ['ganha' 'perde']\n",
      "Class weights: [0.55568862 4.98924731]\n"
     ]
    },
    {
     "data": {
      "text/plain": "{0: 0.555688622754491, 1: 4.989247311827957}"
     },
     "execution_count": 31,
     "metadata": {},
     "output_type": "execute_result"
    }
   ],
   "source": [
    "\n",
    "# Class weights\n",
    "class_weights = get_class_weight(y_train)\n",
    "class_weights"
   ],
   "metadata": {
    "collapsed": false,
    "pycharm": {
     "name": "#%%\n"
    }
   }
  },
  {
   "cell_type": "markdown",
   "source": [
    "## Modelling with Deep Learning\n",
    "\n",
    "In this section, we apply the dataset"
   ],
   "metadata": {
    "collapsed": false,
    "pycharm": {
     "name": "#%% md\n"
    }
   }
  },
  {
   "cell_type": "code",
   "execution_count": 31,
   "outputs": [],
   "source": [],
   "metadata": {
    "collapsed": false,
    "pycharm": {
     "name": "#%%\n"
    }
   }
  },
  {
   "cell_type": "markdown",
   "source": [
    "## Modeling with Shallow ML"
   ],
   "metadata": {
    "collapsed": false,
    "pycharm": {
     "name": "#%% md\n"
    }
   }
  },
  {
   "cell_type": "code",
   "execution_count": 5,
   "outputs": [
    {
     "name": "stdout",
     "output_type": "stream",
     "text": [
      "Dataset shapes:\n",
      " -> Train: X=(1044,)\ty=(1044,)\n",
      " -> Test:  X=(116,)\ty=(116,)\n"
     ]
    }
   ],
   "source": [
    "from sklearn import preprocessing\n",
    "\n",
    "X = dataset_shallow_ml[\"processed_content\"]\n",
    "y = dataset_shallow_ml[\"label\"]\n",
    "\n",
    "X_train, X_test, y_train, y_test = train_test_split(X, y, test_size=0.1, random_state=123, stratify=y, shuffle=True)\n",
    "print(\"Dataset shapes:\")\n",
    "print(\" -> Train: X=%s\\ty=%s\" % (str(X_train.shape), str(y_train.shape)))\n",
    "print(\" -> Test:  X=%s\\ty=%s\" % (str(X_test.shape), str(y_test.shape)))\n",
    "\n",
    "le = preprocessing.LabelEncoder()\n",
    "le.fit(y_train)\n",
    "y_train = le.transform(y_train)\n",
    "y_test = le.transform(y_test)"
   ],
   "metadata": {
    "collapsed": false,
    "pycharm": {
     "name": "#%%\n"
    }
   }
  },
  {
   "cell_type": "markdown",
   "source": [],
   "metadata": {
    "collapsed": false,
    "pycharm": {
     "name": "#%% md\n"
    }
   }
  },
  {
   "cell_type": "code",
   "execution_count": 6,
   "outputs": [],
   "source": [
    "vectorizer = TfidfVectorizer(max_df=0.9, min_df=0.05, max_features=5000)\n",
    "\n",
    "X_train_bow = vectorizer.fit_transform(X_train)\n",
    "X_test_bow = vectorizer.transform(X_test)"
   ],
   "metadata": {
    "collapsed": false,
    "pycharm": {
     "name": "#%%\n"
    }
   }
  },
  {
   "cell_type": "code",
   "execution_count": 7,
   "outputs": [
    {
     "name": "stderr",
     "output_type": "stream",
     "text": [
      "100%|██████████| 10/10 [02:36<00:00, 15.69s/it]"
     ]
    },
    {
     "name": "stdout",
     "output_type": "stream",
     "text": [
      "Acc: 95.6(2.3)%\n",
      "F1:  0.73(0.15)\n"
     ]
    },
    {
     "name": "stderr",
     "output_type": "stream",
     "text": [
      "\n"
     ]
    }
   ],
   "source": [
    "from sklearn.neural_network import MLPClassifier\n",
    "from sklearn.ensemble import RandomForestClassifier\n",
    "import numpy as np\n",
    "from sklearn import metrics\n",
    "import tqdm\n",
    "from sklearn.linear_model import LogisticRegression\n",
    "\n",
    "accs = []\n",
    "f1s = []\n",
    "models = []\n",
    "for i in tqdm.tqdm(range(10)):\n",
    "    X_train_i, X_val_i, y_train_i, y_val_i = train_test_split(X_train_bow, y_train, test_size=0.1, random_state=i,\n",
    "                                                               stratify=y_train, shuffle=True)\n",
    "\n",
    "    # Class weights\n",
    "    class_weights = get_class_weight(y_train_i)\n",
    "\n",
    "    #model = RandomForestClassifier(class_weight=class_weights, max_depth=10, n_estimators=200, n_jobs=3)\n",
    "    model = MLPClassifier(batch_size=32)\n",
    "    model.fit(X_train_i, y_train_i)\n",
    "\n",
    "    y_pred = model.predict(X_val_i)\n",
    "\n",
    "    accs.append(metrics.accuracy_score(y_val_i, y_pred))\n",
    "    f1s.append(metrics.f1_score(y_val_i, y_pred))\n",
    "    models.append(model)\n",
    "\n",
    "print(\"Acc: %.1f(%.1f)%%\" % (100 * np.mean(accs), 100 * np.std(accs)))\n",
    "print(\"F1:  %.2f(%.2f)\" % (np.mean(f1s), np.std(f1s)))\n",
    "\n",
    "best_model = models[np.argmax(f1s)]\n"
   ],
   "metadata": {
    "collapsed": false,
    "pycharm": {
     "name": "#%%\n"
    }
   }
  },
  {
   "cell_type": "code",
   "execution_count": 8,
   "outputs": [
    {
     "name": "stdout",
     "output_type": "stream",
     "text": [
      "              precision    recall  f1-score   support\n",
      "\n",
      "           0       0.98      1.00      0.99       104\n",
      "           1       1.00      0.83      0.91        12\n",
      "\n",
      "    accuracy                           0.98       116\n",
      "   macro avg       0.99      0.92      0.95       116\n",
      "weighted avg       0.98      0.98      0.98       116\n",
      "\n"
     ]
    }
   ],
   "source": [
    "from sklearn.metrics import classification_report\n",
    "\n",
    "y_pred = best_model.predict(X_test_bow)\n",
    "print(classification_report(y_test, y_pred))"
   ],
   "metadata": {
    "collapsed": false,
    "pycharm": {
     "name": "#%%\n"
    }
   }
  },
  {
   "cell_type": "code",
   "execution_count": 9,
   "outputs": [
    {
     "name": "stdout",
     "output_type": "stream",
     "text": [
      "[[104   0]\n",
      " [  2  10]]\n"
     ]
    }
   ],
   "source": [
    "from sklearn.metrics import confusion_matrix\n",
    "\n",
    "print(confusion_matrix(y_test, y_pred))"
   ],
   "metadata": {
    "collapsed": false,
    "pycharm": {
     "name": "#%%\n"
    }
   }
  }
 ],
 "metadata": {
  "kernelspec": {
   "display_name": "Python 3.7.13 ('ml_env')",
   "language": "python",
   "name": "python3"
  },
  "language_info": {
   "codemirror_mode": {
    "name": "ipython",
    "version": 3
   },
   "file_extension": ".py",
   "mimetype": "text/x-python",
   "name": "python",
   "nbconvert_exporter": "python",
   "pygments_lexer": "ipython3",
   "version": "3.7.13"
  },
  "orig_nbformat": 4,
  "vscode": {
   "interpreter": {
    "hash": "6c79f3b749ac1c615955d5d100e4e2835a83d7f04dde803c7105836bec394313"
   }
  }
 },
 "nbformat": 4,
 "nbformat_minor": 2
}